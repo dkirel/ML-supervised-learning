{
 "cells": [
  {
   "cell_type": "markdown",
   "metadata": {},
   "source": [
    "# Import Libraries"
   ]
  },
  {
   "cell_type": "code",
   "execution_count": 1,
   "metadata": {},
   "outputs": [
    {
     "name": "stderr",
     "output_type": "stream",
     "text": [
      "/Users/7001695/gtech/machine-learning/venv/lib/python3.6/site-packages/sklearn/ensemble/weight_boosting.py:29: DeprecationWarning: numpy.core.umath_tests is an internal NumPy module and should not be imported. It will be removed in a future NumPy release.\n",
      "  from numpy.core.umath_tests import inner1d\n"
     ]
    }
   ],
   "source": [
    "import json\n",
    "import graphviz \n",
    "import matplotlib\n",
    "import matplotlib.pyplot as plt\n",
    "import numpy as np\n",
    "import pandas as pd\n",
    "\n",
    "from sklearn import tree\n",
    "from sklearn.svm import SVC\n",
    "from sklearn.neural_network import MLPClassifier\n",
    "from sklearn.neighbors import KNeighborsClassifier\n",
    "from sklearn.ensemble import GradientBoostingClassifier, RandomForestClassifier\n",
    "from sklearn.preprocessing import StandardScaler, MinMaxScaler\n",
    "from sklearn.metrics import accuracy_score, precision_score, recall_score, roc_auc_score, f1_score\n",
    "from sklearn.model_selection import train_test_split, GridSearchCV, cross_val_score\n",
    "\n",
    "# variable for consistent random selections\n",
    "RANDOM_STATE = 21\n",
    "\n",
    "%matplotlib inline"
   ]
  },
  {
   "cell_type": "markdown",
   "metadata": {},
   "source": [
    "# Load data"
   ]
  },
  {
   "cell_type": "code",
   "execution_count": 34,
   "metadata": {},
   "outputs": [
    {
     "data": {
      "text/html": [
       "<div>\n",
       "<style scoped>\n",
       "    .dataframe tbody tr th:only-of-type {\n",
       "        vertical-align: middle;\n",
       "    }\n",
       "\n",
       "    .dataframe tbody tr th {\n",
       "        vertical-align: top;\n",
       "    }\n",
       "\n",
       "    .dataframe thead th {\n",
       "        text-align: right;\n",
       "    }\n",
       "</style>\n",
       "<table border=\"1\" class=\"dataframe\">\n",
       "  <thead>\n",
       "    <tr style=\"text-align: right;\">\n",
       "      <th></th>\n",
       "      <th>customerID</th>\n",
       "      <th>gender</th>\n",
       "      <th>SeniorCitizen</th>\n",
       "      <th>Partner</th>\n",
       "      <th>Dependents</th>\n",
       "      <th>tenure</th>\n",
       "      <th>PhoneService</th>\n",
       "      <th>MultipleLines</th>\n",
       "      <th>InternetService</th>\n",
       "      <th>OnlineSecurity</th>\n",
       "      <th>...</th>\n",
       "      <th>DeviceProtection</th>\n",
       "      <th>TechSupport</th>\n",
       "      <th>StreamingTV</th>\n",
       "      <th>StreamingMovies</th>\n",
       "      <th>Contract</th>\n",
       "      <th>PaperlessBilling</th>\n",
       "      <th>PaymentMethod</th>\n",
       "      <th>MonthlyCharges</th>\n",
       "      <th>TotalCharges</th>\n",
       "      <th>Churn</th>\n",
       "    </tr>\n",
       "  </thead>\n",
       "  <tbody>\n",
       "    <tr>\n",
       "      <th>0</th>\n",
       "      <td>7590-VHVEG</td>\n",
       "      <td>Female</td>\n",
       "      <td>0</td>\n",
       "      <td>Yes</td>\n",
       "      <td>No</td>\n",
       "      <td>1</td>\n",
       "      <td>No</td>\n",
       "      <td>No phone service</td>\n",
       "      <td>DSL</td>\n",
       "      <td>No</td>\n",
       "      <td>...</td>\n",
       "      <td>No</td>\n",
       "      <td>No</td>\n",
       "      <td>No</td>\n",
       "      <td>No</td>\n",
       "      <td>Month-to-month</td>\n",
       "      <td>Yes</td>\n",
       "      <td>Electronic check</td>\n",
       "      <td>29.85</td>\n",
       "      <td>29.85</td>\n",
       "      <td>No</td>\n",
       "    </tr>\n",
       "    <tr>\n",
       "      <th>1</th>\n",
       "      <td>5575-GNVDE</td>\n",
       "      <td>Male</td>\n",
       "      <td>0</td>\n",
       "      <td>No</td>\n",
       "      <td>No</td>\n",
       "      <td>34</td>\n",
       "      <td>Yes</td>\n",
       "      <td>No</td>\n",
       "      <td>DSL</td>\n",
       "      <td>Yes</td>\n",
       "      <td>...</td>\n",
       "      <td>Yes</td>\n",
       "      <td>No</td>\n",
       "      <td>No</td>\n",
       "      <td>No</td>\n",
       "      <td>One year</td>\n",
       "      <td>No</td>\n",
       "      <td>Mailed check</td>\n",
       "      <td>56.95</td>\n",
       "      <td>1889.50</td>\n",
       "      <td>No</td>\n",
       "    </tr>\n",
       "    <tr>\n",
       "      <th>2</th>\n",
       "      <td>3668-QPYBK</td>\n",
       "      <td>Male</td>\n",
       "      <td>0</td>\n",
       "      <td>No</td>\n",
       "      <td>No</td>\n",
       "      <td>2</td>\n",
       "      <td>Yes</td>\n",
       "      <td>No</td>\n",
       "      <td>DSL</td>\n",
       "      <td>Yes</td>\n",
       "      <td>...</td>\n",
       "      <td>No</td>\n",
       "      <td>No</td>\n",
       "      <td>No</td>\n",
       "      <td>No</td>\n",
       "      <td>Month-to-month</td>\n",
       "      <td>Yes</td>\n",
       "      <td>Mailed check</td>\n",
       "      <td>53.85</td>\n",
       "      <td>108.15</td>\n",
       "      <td>Yes</td>\n",
       "    </tr>\n",
       "    <tr>\n",
       "      <th>3</th>\n",
       "      <td>7795-CFOCW</td>\n",
       "      <td>Male</td>\n",
       "      <td>0</td>\n",
       "      <td>No</td>\n",
       "      <td>No</td>\n",
       "      <td>45</td>\n",
       "      <td>No</td>\n",
       "      <td>No phone service</td>\n",
       "      <td>DSL</td>\n",
       "      <td>Yes</td>\n",
       "      <td>...</td>\n",
       "      <td>Yes</td>\n",
       "      <td>Yes</td>\n",
       "      <td>No</td>\n",
       "      <td>No</td>\n",
       "      <td>One year</td>\n",
       "      <td>No</td>\n",
       "      <td>Bank transfer (automatic)</td>\n",
       "      <td>42.30</td>\n",
       "      <td>1840.75</td>\n",
       "      <td>No</td>\n",
       "    </tr>\n",
       "    <tr>\n",
       "      <th>4</th>\n",
       "      <td>9237-HQITU</td>\n",
       "      <td>Female</td>\n",
       "      <td>0</td>\n",
       "      <td>No</td>\n",
       "      <td>No</td>\n",
       "      <td>2</td>\n",
       "      <td>Yes</td>\n",
       "      <td>No</td>\n",
       "      <td>Fiber optic</td>\n",
       "      <td>No</td>\n",
       "      <td>...</td>\n",
       "      <td>No</td>\n",
       "      <td>No</td>\n",
       "      <td>No</td>\n",
       "      <td>No</td>\n",
       "      <td>Month-to-month</td>\n",
       "      <td>Yes</td>\n",
       "      <td>Electronic check</td>\n",
       "      <td>70.70</td>\n",
       "      <td>151.65</td>\n",
       "      <td>Yes</td>\n",
       "    </tr>\n",
       "  </tbody>\n",
       "</table>\n",
       "<p>5 rows × 21 columns</p>\n",
       "</div>"
      ],
      "text/plain": [
       "   customerID  gender  SeniorCitizen Partner Dependents  tenure PhoneService  \\\n",
       "0  7590-VHVEG  Female              0     Yes         No       1           No   \n",
       "1  5575-GNVDE    Male              0      No         No      34          Yes   \n",
       "2  3668-QPYBK    Male              0      No         No       2          Yes   \n",
       "3  7795-CFOCW    Male              0      No         No      45           No   \n",
       "4  9237-HQITU  Female              0      No         No       2          Yes   \n",
       "\n",
       "      MultipleLines InternetService OnlineSecurity  ...   DeviceProtection  \\\n",
       "0  No phone service             DSL             No  ...                 No   \n",
       "1                No             DSL            Yes  ...                Yes   \n",
       "2                No             DSL            Yes  ...                 No   \n",
       "3  No phone service             DSL            Yes  ...                Yes   \n",
       "4                No     Fiber optic             No  ...                 No   \n",
       "\n",
       "  TechSupport StreamingTV StreamingMovies        Contract PaperlessBilling  \\\n",
       "0          No          No              No  Month-to-month              Yes   \n",
       "1          No          No              No        One year               No   \n",
       "2          No          No              No  Month-to-month              Yes   \n",
       "3         Yes          No              No        One year               No   \n",
       "4          No          No              No  Month-to-month              Yes   \n",
       "\n",
       "               PaymentMethod MonthlyCharges  TotalCharges  Churn  \n",
       "0           Electronic check          29.85         29.85     No  \n",
       "1               Mailed check          56.95       1889.50     No  \n",
       "2               Mailed check          53.85        108.15    Yes  \n",
       "3  Bank transfer (automatic)          42.30       1840.75     No  \n",
       "4           Electronic check          70.70        151.65    Yes  \n",
       "\n",
       "[5 rows x 21 columns]"
      ]
     },
     "execution_count": 34,
     "metadata": {},
     "output_type": "execute_result"
    }
   ],
   "source": [
    "df = pd.read_csv('Telco-Customer-Churn.csv')\n",
    "df['TotalCharges'] = pd.to_numeric(df['TotalCharges'], errors='coerce').fillna(0)\n",
    "df.head()"
   ]
  },
  {
   "cell_type": "code",
   "execution_count": 35,
   "metadata": {},
   "outputs": [
    {
     "data": {
      "text/plain": [
       "customerID           object\n",
       "gender               object\n",
       "SeniorCitizen         int64\n",
       "Partner              object\n",
       "Dependents           object\n",
       "tenure                int64\n",
       "PhoneService         object\n",
       "MultipleLines        object\n",
       "InternetService      object\n",
       "OnlineSecurity       object\n",
       "OnlineBackup         object\n",
       "DeviceProtection     object\n",
       "TechSupport          object\n",
       "StreamingTV          object\n",
       "StreamingMovies      object\n",
       "Contract             object\n",
       "PaperlessBilling     object\n",
       "PaymentMethod        object\n",
       "MonthlyCharges      float64\n",
       "TotalCharges        float64\n",
       "Churn                object\n",
       "dtype: object"
      ]
     },
     "execution_count": 35,
     "metadata": {},
     "output_type": "execute_result"
    }
   ],
   "source": [
    "df.dtypes"
   ]
  },
  {
   "cell_type": "markdown",
   "metadata": {},
   "source": [
    "# Data Exploration"
   ]
  },
  {
   "cell_type": "markdown",
   "metadata": {},
   "source": [
    "### Look for missing values"
   ]
  },
  {
   "cell_type": "code",
   "execution_count": 38,
   "metadata": {},
   "outputs": [
    {
     "data": {
      "text/plain": [
       "customerID          0\n",
       "gender              0\n",
       "SeniorCitizen       0\n",
       "Partner             0\n",
       "Dependents          0\n",
       "tenure              0\n",
       "PhoneService        0\n",
       "MultipleLines       0\n",
       "InternetService     0\n",
       "OnlineSecurity      0\n",
       "OnlineBackup        0\n",
       "DeviceProtection    0\n",
       "TechSupport         0\n",
       "StreamingTV         0\n",
       "StreamingMovies     0\n",
       "Contract            0\n",
       "PaperlessBilling    0\n",
       "PaymentMethod       0\n",
       "MonthlyCharges      0\n",
       "TotalCharges        0\n",
       "Churn               0\n",
       "dtype: int64"
      ]
     },
     "execution_count": 38,
     "metadata": {},
     "output_type": "execute_result"
    }
   ],
   "source": [
    "# Missing values\n",
    "(df.count() - df.count().max()).abs()"
   ]
  },
  {
   "cell_type": "markdown",
   "metadata": {},
   "source": [
    "### Check values to make sure they make sense"
   ]
  },
  {
   "cell_type": "code",
   "execution_count": 39,
   "metadata": {},
   "outputs": [
    {
     "name": "stdout",
     "output_type": "stream",
     "text": [
      "{\n",
      "  \"gender\": [\n",
      "    \"Female\",\n",
      "    \"Male\"\n",
      "  ],\n",
      "  \"Partner\": [\n",
      "    \"Yes\",\n",
      "    \"No\"\n",
      "  ],\n",
      "  \"Dependents\": [\n",
      "    \"No\",\n",
      "    \"Yes\"\n",
      "  ],\n",
      "  \"PhoneService\": [\n",
      "    \"No\",\n",
      "    \"Yes\"\n",
      "  ],\n",
      "  \"MultipleLines\": [\n",
      "    \"No phone service\",\n",
      "    \"No\",\n",
      "    \"Yes\"\n",
      "  ],\n",
      "  \"InternetService\": [\n",
      "    \"DSL\",\n",
      "    \"Fiber optic\",\n",
      "    \"No\"\n",
      "  ],\n",
      "  \"OnlineSecurity\": [\n",
      "    \"No\",\n",
      "    \"Yes\",\n",
      "    \"No internet service\"\n",
      "  ],\n",
      "  \"OnlineBackup\": [\n",
      "    \"Yes\",\n",
      "    \"No\",\n",
      "    \"No internet service\"\n",
      "  ],\n",
      "  \"DeviceProtection\": [\n",
      "    \"No\",\n",
      "    \"Yes\",\n",
      "    \"No internet service\"\n",
      "  ],\n",
      "  \"TechSupport\": [\n",
      "    \"No\",\n",
      "    \"Yes\",\n",
      "    \"No internet service\"\n",
      "  ],\n",
      "  \"StreamingTV\": [\n",
      "    \"No\",\n",
      "    \"Yes\",\n",
      "    \"No internet service\"\n",
      "  ],\n",
      "  \"StreamingMovies\": [\n",
      "    \"No\",\n",
      "    \"Yes\",\n",
      "    \"No internet service\"\n",
      "  ],\n",
      "  \"Contract\": [\n",
      "    \"Month-to-month\",\n",
      "    \"One year\",\n",
      "    \"Two year\"\n",
      "  ],\n",
      "  \"PaperlessBilling\": [\n",
      "    \"Yes\",\n",
      "    \"No\"\n",
      "  ],\n",
      "  \"PaymentMethod\": [\n",
      "    \"Electronic check\",\n",
      "    \"Mailed check\",\n",
      "    \"Bank transfer (automatic)\",\n",
      "    \"Credit card (automatic)\"\n",
      "  ],\n",
      "  \"Churn\": [\n",
      "    \"No\",\n",
      "    \"Yes\"\n",
      "  ]\n",
      "}\n"
     ]
    }
   ],
   "source": [
    "# All potential categorical values\n",
    "categories = {}\n",
    "for col in df:\n",
    "    if df[col].dtype == object and col != 'customerID':\n",
    "        categories[col] = list(df[col].unique())\n",
    "\n",
    "print(json.dumps(categories, indent=2))"
   ]
  },
  {
   "cell_type": "code",
   "execution_count": 40,
   "metadata": {},
   "outputs": [
    {
     "data": {
      "text/html": [
       "<div>\n",
       "<style scoped>\n",
       "    .dataframe tbody tr th:only-of-type {\n",
       "        vertical-align: middle;\n",
       "    }\n",
       "\n",
       "    .dataframe tbody tr th {\n",
       "        vertical-align: top;\n",
       "    }\n",
       "\n",
       "    .dataframe thead th {\n",
       "        text-align: right;\n",
       "    }\n",
       "</style>\n",
       "<table border=\"1\" class=\"dataframe\">\n",
       "  <thead>\n",
       "    <tr style=\"text-align: right;\">\n",
       "      <th></th>\n",
       "      <th>SeniorCitizen</th>\n",
       "      <th>tenure</th>\n",
       "      <th>MonthlyCharges</th>\n",
       "      <th>TotalCharges</th>\n",
       "    </tr>\n",
       "  </thead>\n",
       "  <tbody>\n",
       "    <tr>\n",
       "      <th>count</th>\n",
       "      <td>7043.000000</td>\n",
       "      <td>7043.000000</td>\n",
       "      <td>7043.000000</td>\n",
       "      <td>7043.000000</td>\n",
       "    </tr>\n",
       "    <tr>\n",
       "      <th>mean</th>\n",
       "      <td>0.162147</td>\n",
       "      <td>32.371149</td>\n",
       "      <td>64.761692</td>\n",
       "      <td>2279.734304</td>\n",
       "    </tr>\n",
       "    <tr>\n",
       "      <th>std</th>\n",
       "      <td>0.368612</td>\n",
       "      <td>24.559481</td>\n",
       "      <td>30.090047</td>\n",
       "      <td>2266.794470</td>\n",
       "    </tr>\n",
       "    <tr>\n",
       "      <th>min</th>\n",
       "      <td>0.000000</td>\n",
       "      <td>0.000000</td>\n",
       "      <td>18.250000</td>\n",
       "      <td>0.000000</td>\n",
       "    </tr>\n",
       "    <tr>\n",
       "      <th>25%</th>\n",
       "      <td>0.000000</td>\n",
       "      <td>9.000000</td>\n",
       "      <td>35.500000</td>\n",
       "      <td>398.550000</td>\n",
       "    </tr>\n",
       "    <tr>\n",
       "      <th>50%</th>\n",
       "      <td>0.000000</td>\n",
       "      <td>29.000000</td>\n",
       "      <td>70.350000</td>\n",
       "      <td>1394.550000</td>\n",
       "    </tr>\n",
       "    <tr>\n",
       "      <th>75%</th>\n",
       "      <td>0.000000</td>\n",
       "      <td>55.000000</td>\n",
       "      <td>89.850000</td>\n",
       "      <td>3786.600000</td>\n",
       "    </tr>\n",
       "    <tr>\n",
       "      <th>max</th>\n",
       "      <td>1.000000</td>\n",
       "      <td>72.000000</td>\n",
       "      <td>118.750000</td>\n",
       "      <td>8684.800000</td>\n",
       "    </tr>\n",
       "  </tbody>\n",
       "</table>\n",
       "</div>"
      ],
      "text/plain": [
       "       SeniorCitizen       tenure  MonthlyCharges  TotalCharges\n",
       "count    7043.000000  7043.000000     7043.000000   7043.000000\n",
       "mean        0.162147    32.371149       64.761692   2279.734304\n",
       "std         0.368612    24.559481       30.090047   2266.794470\n",
       "min         0.000000     0.000000       18.250000      0.000000\n",
       "25%         0.000000     9.000000       35.500000    398.550000\n",
       "50%         0.000000    29.000000       70.350000   1394.550000\n",
       "75%         0.000000    55.000000       89.850000   3786.600000\n",
       "max         1.000000    72.000000      118.750000   8684.800000"
      ]
     },
     "execution_count": 40,
     "metadata": {},
     "output_type": "execute_result"
    }
   ],
   "source": [
    "# Numerical values\n",
    "df.describe()"
   ]
  },
  {
   "cell_type": "markdown",
   "metadata": {},
   "source": [
    "### Correlation analysis"
   ]
  },
  {
   "cell_type": "code",
   "execution_count": 41,
   "metadata": {},
   "outputs": [
    {
     "data": {
      "text/html": [
       "<div>\n",
       "<style scoped>\n",
       "    .dataframe tbody tr th:only-of-type {\n",
       "        vertical-align: middle;\n",
       "    }\n",
       "\n",
       "    .dataframe tbody tr th {\n",
       "        vertical-align: top;\n",
       "    }\n",
       "\n",
       "    .dataframe thead th {\n",
       "        text-align: right;\n",
       "    }\n",
       "</style>\n",
       "<table border=\"1\" class=\"dataframe\">\n",
       "  <thead>\n",
       "    <tr style=\"text-align: right;\">\n",
       "      <th></th>\n",
       "      <th>SeniorCitizen</th>\n",
       "      <th>tenure</th>\n",
       "      <th>MonthlyCharges</th>\n",
       "      <th>TotalCharges</th>\n",
       "    </tr>\n",
       "  </thead>\n",
       "  <tbody>\n",
       "    <tr>\n",
       "      <th>SeniorCitizen</th>\n",
       "      <td>1.000000</td>\n",
       "      <td>0.016567</td>\n",
       "      <td>0.220173</td>\n",
       "      <td>0.103006</td>\n",
       "    </tr>\n",
       "    <tr>\n",
       "      <th>tenure</th>\n",
       "      <td>0.016567</td>\n",
       "      <td>1.000000</td>\n",
       "      <td>0.247900</td>\n",
       "      <td>0.826178</td>\n",
       "    </tr>\n",
       "    <tr>\n",
       "      <th>MonthlyCharges</th>\n",
       "      <td>0.220173</td>\n",
       "      <td>0.247900</td>\n",
       "      <td>1.000000</td>\n",
       "      <td>0.651174</td>\n",
       "    </tr>\n",
       "    <tr>\n",
       "      <th>TotalCharges</th>\n",
       "      <td>0.103006</td>\n",
       "      <td>0.826178</td>\n",
       "      <td>0.651174</td>\n",
       "      <td>1.000000</td>\n",
       "    </tr>\n",
       "  </tbody>\n",
       "</table>\n",
       "</div>"
      ],
      "text/plain": [
       "                SeniorCitizen    tenure  MonthlyCharges  TotalCharges\n",
       "SeniorCitizen        1.000000  0.016567        0.220173      0.103006\n",
       "tenure               0.016567  1.000000        0.247900      0.826178\n",
       "MonthlyCharges       0.220173  0.247900        1.000000      0.651174\n",
       "TotalCharges         0.103006  0.826178        0.651174      1.000000"
      ]
     },
     "execution_count": 41,
     "metadata": {},
     "output_type": "execute_result"
    },
    {
     "data": {
      "image/png": "[encoded data removed]",
      "text/plain": [
       "<Figure size 288x288 with 1 Axes>"
      ]
     },
     "metadata": {
      "needs_background": "light"
     },
     "output_type": "display_data"
    }
   ],
   "source": [
    "plt.matshow(df.corr())\n",
    "df.corr()"
   ]
  },
  {
   "cell_type": "markdown",
   "metadata": {},
   "source": [
    "# Check for target balance"
   ]
  },
  {
   "cell_type": "code",
   "execution_count": 121,
   "metadata": {},
   "outputs": [
    {
     "name": "stdout",
     "output_type": "stream",
     "text": [
      "0.2653698707936959\n"
     ]
    },
    {
     "data": {
      "text/html": [
       "<div>\n",
       "<style scoped>\n",
       "    .dataframe tbody tr th:only-of-type {\n",
       "        vertical-align: middle;\n",
       "    }\n",
       "\n",
       "    .dataframe tbody tr th {\n",
       "        vertical-align: top;\n",
       "    }\n",
       "\n",
       "    .dataframe thead th {\n",
       "        text-align: right;\n",
       "    }\n",
       "</style>\n",
       "<table border=\"1\" class=\"dataframe\">\n",
       "  <thead>\n",
       "    <tr style=\"text-align: right;\">\n",
       "      <th></th>\n",
       "      <th>Contract</th>\n",
       "    </tr>\n",
       "    <tr>\n",
       "      <th>Churn</th>\n",
       "      <th></th>\n",
       "    </tr>\n",
       "  </thead>\n",
       "  <tbody>\n",
       "    <tr>\n",
       "      <th>No</th>\n",
       "      <td>5174</td>\n",
       "    </tr>\n",
       "    <tr>\n",
       "      <th>Yes</th>\n",
       "      <td>1869</td>\n",
       "    </tr>\n",
       "  </tbody>\n",
       "</table>\n",
       "</div>"
      ],
      "text/plain": [
       "       Contract\n",
       "Churn          \n",
       "No         5174\n",
       "Yes        1869"
      ]
     },
     "execution_count": 121,
     "metadata": {},
     "output_type": "execute_result"
    }
   ],
   "source": [
    "print(1869.0 / X.shape[0])\n",
    "df[['Churn', 'Contract']].groupby('Churn').count()"
   ]
  },
  {
   "cell_type": "markdown",
   "metadata": {},
   "source": [
    "# Create datasets"
   ]
  },
  {
   "cell_type": "code",
   "execution_count": 116,
   "metadata": {},
   "outputs": [],
   "source": [
    "# Create one-hot encodings of categorical variables\n",
    "categorical_columns = [x for x in categories.keys() if x != 'Churn']\n",
    "X = pd.get_dummies(df, columns=categorical_columns)\n",
    "X_df = X\n",
    "\n",
    "# Get y labels as 1 or 0\n",
    "y = np.where(X['Churn'] == 'Yes', 1, 0)\n",
    "X.drop(columns=['customerID', \"Churn\"], inplace=True)\n",
    "cols = X.columns\n",
    "\n",
    "scaler = StandardScaler().fit(X)\n",
    "X = scaler.transform(X)\n",
    "\n",
    "# Split dataset into training and testing set\n",
    "X_train, X_test, y_train, y_test = train_test_split(X, y, test_size=0.2, random_state=RANDOM_STATE)"
   ]
  },
  {
   "cell_type": "markdown",
   "metadata": {},
   "source": [
    "### Helper functions"
   ]
  },
  {
   "cell_type": "code",
   "execution_count": 123,
   "metadata": {},
   "outputs": [],
   "source": [
    "def plot_curves(title, xlabel, ylabel, train_set, test_set, metric_label, ylim_min=0.75):\n",
    "    plt.plot(train_set, linewidth=3, label='Training ' + metric_label)\n",
    "    plt.plot(test_set, linewidth=3, label='Test ' + metric_label)\n",
    "    plt.legend()\n",
    "    plt.title(title)\n",
    "    plt.ylim(ylim_min, 1.0)\n",
    "    plt.xlabel(xlabel)\n",
    "    plt.ylabel(ylabel)\n",
    "    plt.figure(figsize=(12,12))\n",
    "    plt.show()\n",
    "    \n",
    "def learning_curve(clf_name, clf, step=5):\n",
    "    train_auc, test_auc = [], []\n",
    "    x_step = []\n",
    "    for i in range(step, 101, step):\n",
    "        pct = 1.0 * i / 100\n",
    "        upper = int(X_train.shape[0] * pct) - 1\n",
    "        X_train_sub = X_train[:upper]\n",
    "        y_train_sub = y_train[:upper]\n",
    "        x_step.append(upper)\n",
    "        \n",
    "        clf = clf.fit(X_train_sub, y_train_sub)\n",
    "        train_auc.append(roc_auc_score(y_train_sub, clf.predict_proba(X_train_sub)[:,1]))\n",
    "        test_auc.append(roc_auc_score(y_test, clf.predict_proba(X_test)[:,1]))\n",
    "        \n",
    "    plt.plot(np.array(x_step), np.array(train_auc), label='Training AUC')\n",
    "    plt.plot(np.array(x_step), np.array(test_auc), label='Test AUC')\n",
    "    plt.legend()\n",
    "    plt.title('Telco ' + clf_name + ' Learning Curves')\n",
    "    plt.ylim(0.50, 1.0)\n",
    "    plt.xlabel('# of Samples')\n",
    "    plt.ylabel('ROC AUC')\n",
    "    plt.figure(figsize=(12,12))\n",
    "    plt.show()"
   ]
  },
  {
   "cell_type": "markdown",
   "metadata": {},
   "source": [
    "# Decision Tree"
   ]
  },
  {
   "cell_type": "code",
   "execution_count": 74,
   "metadata": {},
   "outputs": [],
   "source": [
    "dt_clf = tree.DecisionTreeClassifier(max_depth=4, criterion='entropy')\n",
    "dt_clf = dt_clf.fit(X_train, y_train)"
   ]
  },
  {
   "cell_type": "markdown",
   "metadata": {},
   "source": [
    "### Plot tree"
   ]
  },
  {
   "cell_type": "code",
   "execution_count": 75,
   "metadata": {},
   "outputs": [
    {
     "data": {
      "image/svg+xml": [
       "<?xml version=\"1.0\" encoding=\"UTF-8\" standalone=\"no\"?>\n",
       "<!DOCTYPE svg PUBLIC \"-//W3C//DTD SVG 1.1//EN\"\n",
       " \"http://www.w3.org/Graphics/SVG/1.1/DTD/svg11.dtd\">\n",
       "<!-- Generated by graphviz version 2.40.1 (20161225.0304)\n",
       " -->\n",
       "<!-- Title: Tree Pages: 1 -->\n",
       "<svg width=\"2204pt\" height=\"458pt\"\n",
       " viewBox=\"0.00 0.00 2203.81 458.00\" xmlns=\"http://www.w3.org/2000/svg\" xmlns:xlink=\"http://www.w3.org/1999/xlink\">\n",
       "<g id=\"graph0\" class=\"graph\" transform=\"scale(1 1) rotate(0) translate(4 454)\">\n",
       "<title>Tree</title>\n",
       "<polygon fill=\"#ffffff\" stroke=\"transparent\" points=\"-4,4 -4,-454 2199.8062,-454 2199.8062,4 -4,4\"/>\n",
       "<!-- 0 -->\n",
       "<g id=\"node1\" class=\"node\">\n",
       "<title>0</title>\n",
       "<path fill=\"#e58139\" fill-opacity=\"0.639216\" stroke=\"#000000\" d=\"M1188.1326,-450C1188.1326,-450 981.7805,-450 981.7805,-450 975.7805,-450 969.7805,-444 969.7805,-438 969.7805,-438 969.7805,-398 969.7805,-398 969.7805,-392 975.7805,-386 981.7805,-386 981.7805,-386 1188.1326,-386 1188.1326,-386 1194.1326,-386 1200.1326,-392 1200.1326,-398 1200.1326,-398 1200.1326,-438 1200.1326,-438 1200.1326,-444 1194.1326,-450 1188.1326,-450\"/>\n",
       "<text text-anchor=\"start\" x=\"977.6187\" y=\"-434.8\" font-family=\"Helvetica,sans-Serif\" font-size=\"14.00\" fill=\"#000000\">Contract_Month&#45;to&#45;month ≤ &#45;0.101</text>\n",
       "<text text-anchor=\"start\" x=\"1036.1138\" y=\"-420.8\" font-family=\"Helvetica,sans-Serif\" font-size=\"14.00\" fill=\"#000000\">entropy = 0.835</text>\n",
       "<text text-anchor=\"start\" x=\"1035.3413\" y=\"-406.8\" font-family=\"Helvetica,sans-Serif\" font-size=\"14.00\" fill=\"#000000\">samples = 5634</text>\n",
       "<text text-anchor=\"start\" x=\"1021.3208\" y=\"-392.8\" font-family=\"Helvetica,sans-Serif\" font-size=\"14.00\" fill=\"#000000\">value = [4139, 1495]</text>\n",
       "</g>\n",
       "<!-- 1 -->\n",
       "<g id=\"node2\" class=\"node\">\n",
       "<title>1</title>\n",
       "<path fill=\"#e58139\" fill-opacity=\"0.929412\" stroke=\"#000000\" d=\"M877.3917,-350C877.3917,-350 732.5214,-350 732.5214,-350 726.5214,-350 720.5214,-344 720.5214,-338 720.5214,-338 720.5214,-298 720.5214,-298 720.5214,-292 726.5214,-286 732.5214,-286 732.5214,-286 877.3917,-286 877.3917,-286 883.3917,-286 889.3917,-292 889.3917,-298 889.3917,-298 889.3917,-338 889.3917,-338 889.3917,-344 883.3917,-350 877.3917,-350\"/>\n",
       "<text text-anchor=\"start\" x=\"728.7393\" y=\"-334.8\" font-family=\"Helvetica,sans-Serif\" font-size=\"14.00\" fill=\"#000000\">MonthlyCharges ≤ 0.961</text>\n",
       "<text text-anchor=\"start\" x=\"756.1138\" y=\"-320.8\" font-family=\"Helvetica,sans-Serif\" font-size=\"14.00\" fill=\"#000000\">entropy = 0.351</text>\n",
       "<text text-anchor=\"start\" x=\"755.3413\" y=\"-306.8\" font-family=\"Helvetica,sans-Serif\" font-size=\"14.00\" fill=\"#000000\">samples = 2542</text>\n",
       "<text text-anchor=\"start\" x=\"745.2139\" y=\"-292.8\" font-family=\"Helvetica,sans-Serif\" font-size=\"14.00\" fill=\"#000000\">value = [2374, 168]</text>\n",
       "</g>\n",
       "<!-- 0&#45;&gt;1 -->\n",
       "<g id=\"edge1\" class=\"edge\">\n",
       "<title>0&#45;&gt;1</title>\n",
       "<path fill=\"none\" stroke=\"#000000\" d=\"M995.2074,-385.9467C964.4754,-374.971 930.0185,-362.665 898.9595,-351.5725\"/>\n",
       "<polygon fill=\"#000000\" stroke=\"#000000\" points=\"900.0321,-348.2391 889.4375,-348.1718 897.6777,-354.8313 900.0321,-348.2391\"/>\n",
       "<text text-anchor=\"middle\" x=\"900.1397\" y=\"-366.5652\" font-family=\"Helvetica,sans-Serif\" font-size=\"14.00\" fill=\"#000000\">True</text>\n",
       "</g>\n",
       "<!-- 16 -->\n",
       "<g id=\"node17\" class=\"node\">\n",
       "<title>16</title>\n",
       "<path fill=\"#e58139\" fill-opacity=\"0.247059\" stroke=\"#000000\" d=\"M1456.7564,-350C1456.7564,-350 1247.1567,-350 1247.1567,-350 1241.1567,-350 1235.1567,-344 1235.1567,-338 1235.1567,-338 1235.1567,-298 1235.1567,-298 1235.1567,-292 1241.1567,-286 1247.1567,-286 1247.1567,-286 1456.7564,-286 1456.7564,-286 1462.7564,-286 1468.7564,-292 1468.7564,-298 1468.7564,-298 1468.7564,-338 1468.7564,-338 1468.7564,-344 1462.7564,-350 1456.7564,-350\"/>\n",
       "<text text-anchor=\"start\" x=\"1243.0566\" y=\"-334.8\" font-family=\"Helvetica,sans-Serif\" font-size=\"14.00\" fill=\"#000000\">InternetService_Fiber optic ≤ 0.122</text>\n",
       "<text text-anchor=\"start\" x=\"1303.1138\" y=\"-320.8\" font-family=\"Helvetica,sans-Serif\" font-size=\"14.00\" fill=\"#000000\">entropy = 0.985</text>\n",
       "<text text-anchor=\"start\" x=\"1302.3413\" y=\"-306.8\" font-family=\"Helvetica,sans-Serif\" font-size=\"14.00\" fill=\"#000000\">samples = 3092</text>\n",
       "<text text-anchor=\"start\" x=\"1288.3208\" y=\"-292.8\" font-family=\"Helvetica,sans-Serif\" font-size=\"14.00\" fill=\"#000000\">value = [1765, 1327]</text>\n",
       "</g>\n",
       "<!-- 0&#45;&gt;16 -->\n",
       "<g id=\"edge16\" class=\"edge\">\n",
       "<title>0&#45;&gt;16</title>\n",
       "<path fill=\"none\" stroke=\"#000000\" d=\"M1170.5387,-385.9467C1198.0839,-375.6302 1228.7671,-364.1384 1256.948,-353.5837\"/>\n",
       "<polygon fill=\"#000000\" stroke=\"#000000\" points=\"1258.2638,-356.8284 1266.4009,-350.0433 1255.8086,-350.2731 1258.2638,-356.8284\"/>\n",
       "<text text-anchor=\"middle\" x=\"1256.0465\" y=\"-368.5982\" font-family=\"Helvetica,sans-Serif\" font-size=\"14.00\" fill=\"#000000\">False</text>\n",
       "</g>\n",
       "<!-- 2 -->\n",
       "<g id=\"node3\" class=\"node\">\n",
       "<title>2</title>\n",
       "<path fill=\"#e58139\" fill-opacity=\"0.964706\" stroke=\"#000000\" d=\"M507.9565,-250C507.9565,-250 347.9565,-250 347.9565,-250 341.9565,-250 335.9565,-244 335.9565,-238 335.9565,-238 335.9565,-198 335.9565,-198 335.9565,-192 341.9565,-186 347.9565,-186 347.9565,-186 507.9565,-186 507.9565,-186 513.9565,-186 519.9565,-192 519.9565,-198 519.9565,-198 519.9565,-238 519.9565,-238 519.9565,-244 513.9565,-250 507.9565,-250\"/>\n",
       "<text text-anchor=\"start\" x=\"343.9565\" y=\"-234.8\" font-family=\"Helvetica,sans-Serif\" font-size=\"14.00\" fill=\"#000000\">Contract_Two year ≤ 0.607</text>\n",
       "<text text-anchor=\"start\" x=\"379.1138\" y=\"-220.8\" font-family=\"Helvetica,sans-Serif\" font-size=\"14.00\" fill=\"#000000\">entropy = 0.216</text>\n",
       "<text text-anchor=\"start\" x=\"378.3413\" y=\"-206.8\" font-family=\"Helvetica,sans-Serif\" font-size=\"14.00\" fill=\"#000000\">samples = 1915</text>\n",
       "<text text-anchor=\"start\" x=\"372.1069\" y=\"-192.8\" font-family=\"Helvetica,sans-Serif\" font-size=\"14.00\" fill=\"#000000\">value = [1849, 66]</text>\n",
       "</g>\n",
       "<!-- 1&#45;&gt;2 -->\n",
       "<g id=\"edge2\" class=\"edge\">\n",
       "<title>1&#45;&gt;2</title>\n",
       "<path fill=\"none\" stroke=\"#000000\" d=\"M720.3504,-295.558C664.0035,-280.6119 589.6447,-260.8881 530.016,-245.0715\"/>\n",
       "<polygon fill=\"#000000\" stroke=\"#000000\" points=\"530.7631,-241.6487 520.2,-242.4678 528.9683,-248.4147 530.7631,-241.6487\"/>\n",
       "</g>\n",
       "<!-- 9 -->\n",
       "<g id=\"node10\" class=\"node\">\n",
       "<title>9</title>\n",
       "<path fill=\"#e58139\" fill-opacity=\"0.803922\" stroke=\"#000000\" d=\"M856.6561,-250C856.6561,-250 753.257,-250 753.257,-250 747.257,-250 741.257,-244 741.257,-238 741.257,-238 741.257,-198 741.257,-198 741.257,-192 747.257,-186 753.257,-186 753.257,-186 856.6561,-186 856.6561,-186 862.6561,-186 868.6561,-192 868.6561,-198 868.6561,-198 868.6561,-238 868.6561,-238 868.6561,-244 862.6561,-250 856.6561,-250\"/>\n",
       "<text text-anchor=\"start\" x=\"759.8599\" y=\"-234.8\" font-family=\"Helvetica,sans-Serif\" font-size=\"14.00\" fill=\"#000000\">tenure ≤ 1.553</text>\n",
       "<text text-anchor=\"start\" x=\"756.1138\" y=\"-220.8\" font-family=\"Helvetica,sans-Serif\" font-size=\"14.00\" fill=\"#000000\">entropy = 0.641</text>\n",
       "<text text-anchor=\"start\" x=\"759.2344\" y=\"-206.8\" font-family=\"Helvetica,sans-Serif\" font-size=\"14.00\" fill=\"#000000\">samples = 627</text>\n",
       "<text text-anchor=\"start\" x=\"749.1069\" y=\"-192.8\" font-family=\"Helvetica,sans-Serif\" font-size=\"14.00\" fill=\"#000000\">value = [525, 102]</text>\n",
       "</g>\n",
       "<!-- 1&#45;&gt;9 -->\n",
       "<g id=\"edge9\" class=\"edge\">\n",
       "<title>1&#45;&gt;9</title>\n",
       "<path fill=\"none\" stroke=\"#000000\" d=\"M804.9565,-285.8089C804.9565,-277.6906 804.9565,-268.8517 804.9565,-260.3186\"/>\n",
       "<polygon fill=\"#000000\" stroke=\"#000000\" points=\"808.4566,-260.1307 804.9565,-250.1308 801.4566,-260.1308 808.4566,-260.1307\"/>\n",
       "</g>\n",
       "<!-- 3 -->\n",
       "<g id=\"node4\" class=\"node\">\n",
       "<title>3</title>\n",
       "<path fill=\"#e58139\" fill-opacity=\"0.929412\" stroke=\"#000000\" d=\"M284.9445,-150C284.9445,-150 110.9686,-150 110.9686,-150 104.9686,-150 98.9686,-144 98.9686,-138 98.9686,-138 98.9686,-98 98.9686,-98 98.9686,-92 104.9686,-86 110.9686,-86 110.9686,-86 284.9445,-86 284.9445,-86 290.9445,-86 296.9445,-92 296.9445,-98 296.9445,-98 296.9445,-138 296.9445,-138 296.9445,-144 290.9445,-150 284.9445,-150\"/>\n",
       "<text text-anchor=\"start\" x=\"107.2129\" y=\"-134.8\" font-family=\"Helvetica,sans-Serif\" font-size=\"14.00\" fill=\"#000000\">StreamingMovies_Yes ≤ 0.23</text>\n",
       "<text text-anchor=\"start\" x=\"149.1138\" y=\"-120.8\" font-family=\"Helvetica,sans-Serif\" font-size=\"14.00\" fill=\"#000000\">entropy = 0.352</text>\n",
       "<text text-anchor=\"start\" x=\"152.2344\" y=\"-106.8\" font-family=\"Helvetica,sans-Serif\" font-size=\"14.00\" fill=\"#000000\">samples = 859</text>\n",
       "<text text-anchor=\"start\" x=\"146\" y=\"-92.8\" font-family=\"Helvetica,sans-Serif\" font-size=\"14.00\" fill=\"#000000\">value = [802, 57]</text>\n",
       "</g>\n",
       "<!-- 2&#45;&gt;3 -->\n",
       "<g id=\"edge3\" class=\"edge\">\n",
       "<title>2&#45;&gt;3</title>\n",
       "<path fill=\"none\" stroke=\"#000000\" d=\"M354.2341,-185.9467C330.9187,-175.8096 304.9933,-164.5377 281.0676,-154.1352\"/>\n",
       "<polygon fill=\"#000000\" stroke=\"#000000\" points=\"282.2224,-150.8209 271.6561,-150.0433 279.4313,-157.2404 282.2224,-150.8209\"/>\n",
       "</g>\n",
       "<!-- 6 -->\n",
       "<g id=\"node7\" class=\"node\">\n",
       "<title>6</title>\n",
       "<path fill=\"#e58139\" fill-opacity=\"0.992157\" stroke=\"#000000\" d=\"M490.7155,-150C490.7155,-150 365.1976,-150 365.1976,-150 359.1976,-150 353.1976,-144 353.1976,-138 353.1976,-138 353.1976,-98 353.1976,-98 353.1976,-92 359.1976,-86 365.1976,-86 365.1976,-86 490.7155,-86 490.7155,-86 496.7155,-86 502.7155,-92 502.7155,-98 502.7155,-98 502.7155,-138 502.7155,-138 502.7155,-144 496.7155,-150 490.7155,-150\"/>\n",
       "<text text-anchor=\"start\" x=\"361.0771\" y=\"-134.8\" font-family=\"Helvetica,sans-Serif\" font-size=\"14.00\" fill=\"#000000\">SeniorCitizen ≤ 0.917</text>\n",
       "<text text-anchor=\"start\" x=\"379.1138\" y=\"-120.8\" font-family=\"Helvetica,sans-Serif\" font-size=\"14.00\" fill=\"#000000\">entropy = 0.071</text>\n",
       "<text text-anchor=\"start\" x=\"378.3413\" y=\"-106.8\" font-family=\"Helvetica,sans-Serif\" font-size=\"14.00\" fill=\"#000000\">samples = 1056</text>\n",
       "<text text-anchor=\"start\" x=\"376\" y=\"-92.8\" font-family=\"Helvetica,sans-Serif\" font-size=\"14.00\" fill=\"#000000\">value = [1047, 9]</text>\n",
       "</g>\n",
       "<!-- 2&#45;&gt;6 -->\n",
       "<g id=\"edge6\" class=\"edge\">\n",
       "<title>2&#45;&gt;6</title>\n",
       "<path fill=\"none\" stroke=\"#000000\" d=\"M427.9565,-185.8089C427.9565,-177.6906 427.9565,-168.8517 427.9565,-160.3186\"/>\n",
       "<polygon fill=\"#000000\" stroke=\"#000000\" points=\"431.4566,-160.1307 427.9565,-150.1308 424.4566,-160.1308 431.4566,-160.1307\"/>\n",
       "</g>\n",
       "<!-- 4 -->\n",
       "<g id=\"node5\" class=\"node\">\n",
       "<title>4</title>\n",
       "<path fill=\"#e58139\" fill-opacity=\"0.960784\" stroke=\"#000000\" d=\"M107.8697,-50C107.8697,-50 12.0434,-50 12.0434,-50 6.0434,-50 .0434,-44 .0434,-38 .0434,-38 .0434,-12 .0434,-12 .0434,-6 6.0434,0 12.0434,0 12.0434,0 107.8697,0 107.8697,0 113.8697,0 119.8697,-6 119.8697,-12 119.8697,-12 119.8697,-38 119.8697,-38 119.8697,-44 113.8697,-50 107.8697,-50\"/>\n",
       "<text text-anchor=\"start\" x=\"11.1138\" y=\"-34.8\" font-family=\"Helvetica,sans-Serif\" font-size=\"14.00\" fill=\"#000000\">entropy = 0.229</text>\n",
       "<text text-anchor=\"start\" x=\"14.2344\" y=\"-20.8\" font-family=\"Helvetica,sans-Serif\" font-size=\"14.00\" fill=\"#000000\">samples = 618</text>\n",
       "<text text-anchor=\"start\" x=\"8\" y=\"-6.8\" font-family=\"Helvetica,sans-Serif\" font-size=\"14.00\" fill=\"#000000\">value = [595, 23]</text>\n",
       "</g>\n",
       "<!-- 3&#45;&gt;4 -->\n",
       "<g id=\"edge4\" class=\"edge\">\n",
       "<title>3&#45;&gt;4</title>\n",
       "<path fill=\"none\" stroke=\"#000000\" d=\"M150.4648,-85.9947C135.8657,-76.1562 119.8393,-65.3558 105.3822,-55.613\"/>\n",
       "<polygon fill=\"#000000\" stroke=\"#000000\" points=\"107.3228,-52.7002 97.0741,-50.014 103.4108,-58.505 107.3228,-52.7002\"/>\n",
       "</g>\n",
       "<!-- 5 -->\n",
       "<g id=\"node6\" class=\"node\">\n",
       "<title>5</title>\n",
       "<path fill=\"#e58139\" fill-opacity=\"0.835294\" stroke=\"#000000\" d=\"M245.8697,-50C245.8697,-50 150.0434,-50 150.0434,-50 144.0434,-50 138.0434,-44 138.0434,-38 138.0434,-38 138.0434,-12 138.0434,-12 138.0434,-6 144.0434,0 150.0434,0 150.0434,0 245.8697,0 245.8697,0 251.8697,0 257.8697,-6 257.8697,-12 257.8697,-12 257.8697,-38 257.8697,-38 257.8697,-44 251.8697,-50 245.8697,-50\"/>\n",
       "<text text-anchor=\"start\" x=\"149.1138\" y=\"-34.8\" font-family=\"Helvetica,sans-Serif\" font-size=\"14.00\" fill=\"#000000\">entropy = 0.587</text>\n",
       "<text text-anchor=\"start\" x=\"152.2344\" y=\"-20.8\" font-family=\"Helvetica,sans-Serif\" font-size=\"14.00\" fill=\"#000000\">samples = 241</text>\n",
       "<text text-anchor=\"start\" x=\"146\" y=\"-6.8\" font-family=\"Helvetica,sans-Serif\" font-size=\"14.00\" fill=\"#000000\">value = [207, 34]</text>\n",
       "</g>\n",
       "<!-- 3&#45;&gt;5 -->\n",
       "<g id=\"edge5\" class=\"edge\">\n",
       "<title>3&#45;&gt;5</title>\n",
       "<path fill=\"none\" stroke=\"#000000\" d=\"M197.9565,-85.9947C197.9565,-77.6273 197.9565,-68.5643 197.9565,-60.0478\"/>\n",
       "<polygon fill=\"#000000\" stroke=\"#000000\" points=\"201.4566,-60.014 197.9565,-50.014 194.4566,-60.0141 201.4566,-60.014\"/>\n",
       "</g>\n",
       "<!-- 7 -->\n",
       "<g id=\"node8\" class=\"node\">\n",
       "<title>7</title>\n",
       "<path fill=\"#e58139\" fill-opacity=\"0.992157\" stroke=\"#000000\" d=\"M377.6425,-50C377.6425,-50 288.2706,-50 288.2706,-50 282.2706,-50 276.2706,-44 276.2706,-38 276.2706,-38 276.2706,-12 276.2706,-12 276.2706,-6 282.2706,0 288.2706,0 288.2706,0 377.6425,0 377.6425,0 383.6425,0 389.6425,-6 389.6425,-12 389.6425,-12 389.6425,-38 389.6425,-38 389.6425,-44 383.6425,-50 377.6425,-50\"/>\n",
       "<text text-anchor=\"start\" x=\"284.1138\" y=\"-34.8\" font-family=\"Helvetica,sans-Serif\" font-size=\"14.00\" fill=\"#000000\">entropy = 0.053</text>\n",
       "<text text-anchor=\"start\" x=\"287.2344\" y=\"-20.8\" font-family=\"Helvetica,sans-Serif\" font-size=\"14.00\" fill=\"#000000\">samples = 987</text>\n",
       "<text text-anchor=\"start\" x=\"284.8931\" y=\"-6.8\" font-family=\"Helvetica,sans-Serif\" font-size=\"14.00\" fill=\"#000000\">value = [981, 6]</text>\n",
       "</g>\n",
       "<!-- 6&#45;&gt;7 -->\n",
       "<g id=\"edge7\" class=\"edge\">\n",
       "<title>6&#45;&gt;7</title>\n",
       "<path fill=\"none\" stroke=\"#000000\" d=\"M395.2629,-85.9947C385.7764,-76.7079 375.4144,-66.564 365.9119,-57.2616\"/>\n",
       "<polygon fill=\"#000000\" stroke=\"#000000\" points=\"368.1028,-54.5084 358.5085,-50.014 363.206,-59.5106 368.1028,-54.5084\"/>\n",
       "</g>\n",
       "<!-- 8 -->\n",
       "<g id=\"node9\" class=\"node\">\n",
       "<title>8</title>\n",
       "<path fill=\"#e58139\" fill-opacity=\"0.952941\" stroke=\"#000000\" d=\"M509.6425,-50C509.6425,-50 420.2706,-50 420.2706,-50 414.2706,-50 408.2706,-44 408.2706,-38 408.2706,-38 408.2706,-12 408.2706,-12 408.2706,-6 414.2706,0 420.2706,0 420.2706,0 509.6425,0 509.6425,0 515.6425,0 521.6425,-6 521.6425,-12 521.6425,-12 521.6425,-38 521.6425,-38 521.6425,-44 515.6425,-50 509.6425,-50\"/>\n",
       "<text text-anchor=\"start\" x=\"416.1138\" y=\"-34.8\" font-family=\"Helvetica,sans-Serif\" font-size=\"14.00\" fill=\"#000000\">entropy = 0.258</text>\n",
       "<text text-anchor=\"start\" x=\"423.1274\" y=\"-20.8\" font-family=\"Helvetica,sans-Serif\" font-size=\"14.00\" fill=\"#000000\">samples = 69</text>\n",
       "<text text-anchor=\"start\" x=\"420.7861\" y=\"-6.8\" font-family=\"Helvetica,sans-Serif\" font-size=\"14.00\" fill=\"#000000\">value = [66, 3]</text>\n",
       "</g>\n",
       "<!-- 6&#45;&gt;8 -->\n",
       "<g id=\"edge8\" class=\"edge\">\n",
       "<title>6&#45;&gt;8</title>\n",
       "<path fill=\"none\" stroke=\"#000000\" d=\"M440.6898,-85.9947C444.0919,-77.4434 447.7831,-68.1656 451.2359,-59.487\"/>\n",
       "<polygon fill=\"#000000\" stroke=\"#000000\" points=\"454.5601,-60.5995 455.0047,-50.014 448.0559,-58.0118 454.5601,-60.5995\"/>\n",
       "</g>\n",
       "<!-- 10 -->\n",
       "<g id=\"node11\" class=\"node\">\n",
       "<title>10</title>\n",
       "<path fill=\"#e58139\" fill-opacity=\"0.741176\" stroke=\"#000000\" d=\"M784.236,-150C784.236,-150 623.6771,-150 623.6771,-150 617.6771,-150 611.6771,-144 611.6771,-138 611.6771,-138 611.6771,-98 611.6771,-98 611.6771,-92 617.6771,-86 623.6771,-86 623.6771,-86 784.236,-86 784.236,-86 790.236,-86 796.236,-92 796.236,-98 796.236,-98 796.236,-138 796.236,-138 796.236,-144 790.236,-150 784.236,-150\"/>\n",
       "<text text-anchor=\"start\" x=\"619.5669\" y=\"-134.8\" font-family=\"Helvetica,sans-Serif\" font-size=\"14.00\" fill=\"#000000\">Contract_One year ≤ 0.715</text>\n",
       "<text text-anchor=\"start\" x=\"655.1138\" y=\"-120.8\" font-family=\"Helvetica,sans-Serif\" font-size=\"14.00\" fill=\"#000000\">entropy = 0.734</text>\n",
       "<text text-anchor=\"start\" x=\"658.2344\" y=\"-106.8\" font-family=\"Helvetica,sans-Serif\" font-size=\"14.00\" fill=\"#000000\">samples = 456</text>\n",
       "<text text-anchor=\"start\" x=\"652\" y=\"-92.8\" font-family=\"Helvetica,sans-Serif\" font-size=\"14.00\" fill=\"#000000\">value = [362, 94]</text>\n",
       "</g>\n",
       "<!-- 9&#45;&gt;10 -->\n",
       "<g id=\"edge10\" class=\"edge\">\n",
       "<title>9&#45;&gt;10</title>\n",
       "<path fill=\"none\" stroke=\"#000000\" d=\"M772.4436,-185.8089C763.2529,-176.7092 753.1479,-166.7043 743.5884,-157.2394\"/>\n",
       "<polygon fill=\"#000000\" stroke=\"#000000\" points=\"745.9773,-154.6794 736.4086,-150.1308 741.0523,-159.6538 745.9773,-154.6794\"/>\n",
       "</g>\n",
       "<!-- 13 -->\n",
       "<g id=\"node14\" class=\"node\">\n",
       "<title>13</title>\n",
       "<path fill=\"#e58139\" fill-opacity=\"0.949020\" stroke=\"#000000\" d=\"M985.6774,-150C985.6774,-150 826.2357,-150 826.2357,-150 820.2357,-150 814.2357,-144 814.2357,-138 814.2357,-138 814.2357,-98 814.2357,-98 814.2357,-92 820.2357,-86 826.2357,-86 826.2357,-86 985.6774,-86 985.6774,-86 991.6774,-86 997.6774,-92 997.6774,-98 997.6774,-98 997.6774,-138 997.6774,-138 997.6774,-144 991.6774,-150 985.6774,-150\"/>\n",
       "<text text-anchor=\"start\" x=\"822.3462\" y=\"-134.8\" font-family=\"Helvetica,sans-Serif\" font-size=\"14.00\" fill=\"#000000\">OnlineSecurity_No ≤ 0.007</text>\n",
       "<text text-anchor=\"start\" x=\"857.1138\" y=\"-120.8\" font-family=\"Helvetica,sans-Serif\" font-size=\"14.00\" fill=\"#000000\">entropy = 0.273</text>\n",
       "<text text-anchor=\"start\" x=\"860.2344\" y=\"-106.8\" font-family=\"Helvetica,sans-Serif\" font-size=\"14.00\" fill=\"#000000\">samples = 171</text>\n",
       "<text text-anchor=\"start\" x=\"857.8931\" y=\"-92.8\" font-family=\"Helvetica,sans-Serif\" font-size=\"14.00\" fill=\"#000000\">value = [163, 8]</text>\n",
       "</g>\n",
       "<!-- 9&#45;&gt;13 -->\n",
       "<g id=\"edge13\" class=\"edge\">\n",
       "<title>9&#45;&gt;13</title>\n",
       "<path fill=\"none\" stroke=\"#000000\" d=\"M837.4695,-185.8089C846.6602,-176.7092 856.7652,-166.7043 866.3247,-157.2394\"/>\n",
       "<polygon fill=\"#000000\" stroke=\"#000000\" points=\"868.8608,-159.6538 873.5045,-150.1308 863.9357,-154.6794 868.8608,-159.6538\"/>\n",
       "</g>\n",
       "<!-- 11 -->\n",
       "<g id=\"node12\" class=\"node\">\n",
       "<title>11</title>\n",
       "<path fill=\"#e58139\" fill-opacity=\"0.847059\" stroke=\"#000000\" d=\"M647.8697,-50C647.8697,-50 552.0434,-50 552.0434,-50 546.0434,-50 540.0434,-44 540.0434,-38 540.0434,-38 540.0434,-12 540.0434,-12 540.0434,-6 546.0434,0 552.0434,0 552.0434,0 647.8697,0 647.8697,0 653.8697,0 659.8697,-6 659.8697,-12 659.8697,-12 659.8697,-38 659.8697,-38 659.8697,-44 653.8697,-50 647.8697,-50\"/>\n",
       "<text text-anchor=\"start\" x=\"551.1138\" y=\"-34.8\" font-family=\"Helvetica,sans-Serif\" font-size=\"14.00\" fill=\"#000000\">entropy = 0.561</text>\n",
       "<text text-anchor=\"start\" x=\"554.2344\" y=\"-20.8\" font-family=\"Helvetica,sans-Serif\" font-size=\"14.00\" fill=\"#000000\">samples = 160</text>\n",
       "<text text-anchor=\"start\" x=\"548\" y=\"-6.8\" font-family=\"Helvetica,sans-Serif\" font-size=\"14.00\" fill=\"#000000\">value = [139, 21]</text>\n",
       "</g>\n",
       "<!-- 10&#45;&gt;11 -->\n",
       "<g id=\"edge11\" class=\"edge\">\n",
       "<title>10&#45;&gt;11</title>\n",
       "<path fill=\"none\" stroke=\"#000000\" d=\"M668.1656,-85.9947C657.5747,-76.524 645.9871,-66.1619 635.4171,-56.7099\"/>\n",
       "<polygon fill=\"#000000\" stroke=\"#000000\" points=\"637.7166,-54.0709 627.9292,-50.014 633.0505,-59.2889 637.7166,-54.0709\"/>\n",
       "</g>\n",
       "<!-- 12 -->\n",
       "<g id=\"node13\" class=\"node\">\n",
       "<title>12</title>\n",
       "<path fill=\"#e58139\" fill-opacity=\"0.674510\" stroke=\"#000000\" d=\"M785.8697,-50C785.8697,-50 690.0434,-50 690.0434,-50 684.0434,-50 678.0434,-44 678.0434,-38 678.0434,-38 678.0434,-12 678.0434,-12 678.0434,-6 684.0434,0 690.0434,0 690.0434,0 785.8697,0 785.8697,0 791.8697,0 797.8697,-6 797.8697,-12 797.8697,-12 797.8697,-38 797.8697,-38 797.8697,-44 791.8697,-50 785.8697,-50\"/>\n",
       "<text text-anchor=\"start\" x=\"689.1138\" y=\"-34.8\" font-family=\"Helvetica,sans-Serif\" font-size=\"14.00\" fill=\"#000000\">entropy = 0.806</text>\n",
       "<text text-anchor=\"start\" x=\"692.2344\" y=\"-20.8\" font-family=\"Helvetica,sans-Serif\" font-size=\"14.00\" fill=\"#000000\">samples = 296</text>\n",
       "<text text-anchor=\"start\" x=\"686\" y=\"-6.8\" font-family=\"Helvetica,sans-Serif\" font-size=\"14.00\" fill=\"#000000\">value = [223, 73]</text>\n",
       "</g>\n",
       "<!-- 10&#45;&gt;12 -->\n",
       "<g id=\"edge12\" class=\"edge\">\n",
       "<title>10&#45;&gt;12</title>\n",
       "<path fill=\"none\" stroke=\"#000000\" d=\"M715.6574,-85.9947C718.7837,-77.4434 722.1756,-68.1656 725.3484,-59.487\"/>\n",
       "<polygon fill=\"#000000\" stroke=\"#000000\" points=\"728.6651,-60.6079 728.8116,-50.014 722.0907,-58.2043 728.6651,-60.6079\"/>\n",
       "</g>\n",
       "<!-- 14 -->\n",
       "<g id=\"node15\" class=\"node\">\n",
       "<title>14</title>\n",
       "<path fill=\"#e58139\" fill-opacity=\"0.984314\" stroke=\"#000000\" d=\"M917.6425,-50C917.6425,-50 828.2706,-50 828.2706,-50 822.2706,-50 816.2706,-44 816.2706,-38 816.2706,-38 816.2706,-12 816.2706,-12 816.2706,-6 822.2706,0 828.2706,0 828.2706,0 917.6425,0 917.6425,0 923.6425,0 929.6425,-6 929.6425,-12 929.6425,-12 929.6425,-38 929.6425,-38 929.6425,-44 923.6425,-50 917.6425,-50\"/>\n",
       "<text text-anchor=\"start\" x=\"824.1138\" y=\"-34.8\" font-family=\"Helvetica,sans-Serif\" font-size=\"14.00\" fill=\"#000000\">entropy = 0.125</text>\n",
       "<text text-anchor=\"start\" x=\"827.7505\" y=\"-20.8\" font-family=\"Helvetica,sans-Serif\" font-size=\"14.00\" fill=\"#000000\">samples = 117</text>\n",
       "<text text-anchor=\"start\" x=\"825.4092\" y=\"-6.8\" font-family=\"Helvetica,sans-Serif\" font-size=\"14.00\" fill=\"#000000\">value = [115, 2]</text>\n",
       "</g>\n",
       "<!-- 13&#45;&gt;14 -->\n",
       "<g id=\"edge14\" class=\"edge\">\n",
       "<title>13&#45;&gt;14</title>\n",
       "<path fill=\"none\" stroke=\"#000000\" d=\"M894.5998,-85.9947C891.5655,-77.4434 888.2734,-68.1656 885.1939,-59.487\"/>\n",
       "<polygon fill=\"#000000\" stroke=\"#000000\" points=\"888.4752,-58.2679 881.8325,-50.014 881.8782,-60.6088 888.4752,-58.2679\"/>\n",
       "</g>\n",
       "<!-- 15 -->\n",
       "<g id=\"node16\" class=\"node\">\n",
       "<title>15</title>\n",
       "<path fill=\"#e58139\" fill-opacity=\"0.874510\" stroke=\"#000000\" d=\"M1049.6425,-50C1049.6425,-50 960.2706,-50 960.2706,-50 954.2706,-50 948.2706,-44 948.2706,-38 948.2706,-38 948.2706,-12 948.2706,-12 948.2706,-6 954.2706,0 960.2706,0 960.2706,0 1049.6425,0 1049.6425,0 1055.6425,0 1061.6425,-6 1061.6425,-12 1061.6425,-12 1061.6425,-38 1061.6425,-38 1061.6425,-44 1055.6425,-50 1049.6425,-50\"/>\n",
       "<text text-anchor=\"start\" x=\"956.1138\" y=\"-34.8\" font-family=\"Helvetica,sans-Serif\" font-size=\"14.00\" fill=\"#000000\">entropy = 0.503</text>\n",
       "<text text-anchor=\"start\" x=\"963.1274\" y=\"-20.8\" font-family=\"Helvetica,sans-Serif\" font-size=\"14.00\" fill=\"#000000\">samples = 54</text>\n",
       "<text text-anchor=\"start\" x=\"960.7861\" y=\"-6.8\" font-family=\"Helvetica,sans-Serif\" font-size=\"14.00\" fill=\"#000000\">value = [48, 6]</text>\n",
       "</g>\n",
       "<!-- 13&#45;&gt;15 -->\n",
       "<g id=\"edge15\" class=\"edge\">\n",
       "<title>13&#45;&gt;15</title>\n",
       "<path fill=\"none\" stroke=\"#000000\" d=\"M940.0267,-85.9947C950.0106,-76.6159 960.9249,-66.363 970.9075,-56.9855\"/>\n",
       "<polygon fill=\"#000000\" stroke=\"#000000\" points=\"973.4366,-59.4118 978.3287,-50.014 968.6438,-54.3098 973.4366,-59.4118\"/>\n",
       "</g>\n",
       "<!-- 17 -->\n",
       "<g id=\"node18\" class=\"node\">\n",
       "<title>17</title>\n",
       "<path fill=\"#e58139\" fill-opacity=\"0.611765\" stroke=\"#000000\" d=\"M1403.6561,-250C1403.6561,-250 1300.257,-250 1300.257,-250 1294.257,-250 1288.257,-244 1288.257,-238 1288.257,-238 1288.257,-198 1288.257,-198 1288.257,-192 1294.257,-186 1300.257,-186 1300.257,-186 1403.6561,-186 1403.6561,-186 1409.6561,-186 1415.6561,-192 1415.6561,-198 1415.6561,-198 1415.6561,-238 1415.6561,-238 1415.6561,-244 1409.6561,-250 1403.6561,-250\"/>\n",
       "<text text-anchor=\"start\" x=\"1304.5288\" y=\"-234.8\" font-family=\"Helvetica,sans-Serif\" font-size=\"14.00\" fill=\"#000000\">tenure ≤ &#45;1.135</text>\n",
       "<text text-anchor=\"start\" x=\"1303.1138\" y=\"-220.8\" font-family=\"Helvetica,sans-Serif\" font-size=\"14.00\" fill=\"#000000\">entropy = 0.855</text>\n",
       "<text text-anchor=\"start\" x=\"1302.3413\" y=\"-206.8\" font-family=\"Helvetica,sans-Serif\" font-size=\"14.00\" fill=\"#000000\">samples = 1387</text>\n",
       "<text text-anchor=\"start\" x=\"1296.1069\" y=\"-192.8\" font-family=\"Helvetica,sans-Serif\" font-size=\"14.00\" fill=\"#000000\">value = [999, 388]</text>\n",
       "</g>\n",
       "<!-- 16&#45;&gt;17 -->\n",
       "<g id=\"edge17\" class=\"edge\">\n",
       "<title>16&#45;&gt;17</title>\n",
       "<path fill=\"none\" stroke=\"#000000\" d=\"M1351.9565,-285.8089C1351.9565,-277.6906 1351.9565,-268.8517 1351.9565,-260.3186\"/>\n",
       "<polygon fill=\"#000000\" stroke=\"#000000\" points=\"1355.4566,-260.1307 1351.9565,-250.1308 1348.4566,-260.1308 1355.4566,-260.1307\"/>\n",
       "</g>\n",
       "<!-- 24 -->\n",
       "<g id=\"node25\" class=\"node\">\n",
       "<title>24</title>\n",
       "<path fill=\"#399de5\" fill-opacity=\"0.184314\" stroke=\"#000000\" d=\"M1777.6561,-250C1777.6561,-250 1674.257,-250 1674.257,-250 1668.257,-250 1662.257,-244 1662.257,-238 1662.257,-238 1662.257,-198 1662.257,-198 1662.257,-192 1668.257,-186 1674.257,-186 1674.257,-186 1777.6561,-186 1777.6561,-186 1783.6561,-186 1789.6561,-192 1789.6561,-198 1789.6561,-198 1789.6561,-238 1789.6561,-238 1789.6561,-244 1783.6561,-250 1777.6561,-250\"/>\n",
       "<text text-anchor=\"start\" x=\"1678.5288\" y=\"-234.8\" font-family=\"Helvetica,sans-Serif\" font-size=\"14.00\" fill=\"#000000\">tenure ≤ &#45;0.646</text>\n",
       "<text text-anchor=\"start\" x=\"1677.1138\" y=\"-220.8\" font-family=\"Helvetica,sans-Serif\" font-size=\"14.00\" fill=\"#000000\">entropy = 0.993</text>\n",
       "<text text-anchor=\"start\" x=\"1676.3413\" y=\"-206.8\" font-family=\"Helvetica,sans-Serif\" font-size=\"14.00\" fill=\"#000000\">samples = 1705</text>\n",
       "<text text-anchor=\"start\" x=\"1670.1069\" y=\"-192.8\" font-family=\"Helvetica,sans-Serif\" font-size=\"14.00\" fill=\"#000000\">value = [766, 939]</text>\n",
       "</g>\n",
       "<!-- 16&#45;&gt;24 -->\n",
       "<g id=\"edge24\" class=\"edge\">\n",
       "<title>16&#45;&gt;24</title>\n",
       "<path fill=\"none\" stroke=\"#000000\" d=\"M1469.0101,-286.7022C1528.8974,-270.6896 1599.9673,-251.687 1652.1661,-237.7301\"/>\n",
       "<polygon fill=\"#000000\" stroke=\"#000000\" points=\"1653.2589,-241.0609 1662.0154,-235.0966 1651.4507,-234.2985 1653.2589,-241.0609\"/>\n",
       "</g>\n",
       "<!-- 18 -->\n",
       "<g id=\"node19\" class=\"node\">\n",
       "<title>18</title>\n",
       "<path fill=\"#e58139\" fill-opacity=\"0.258824\" stroke=\"#000000\" d=\"M1329.2428,-150C1329.2428,-150 1182.6703,-150 1182.6703,-150 1176.6703,-150 1170.6703,-144 1170.6703,-138 1170.6703,-138 1170.6703,-98 1170.6703,-98 1170.6703,-92 1176.6703,-86 1182.6703,-86 1182.6703,-86 1329.2428,-86 1329.2428,-86 1335.2428,-86 1341.2428,-92 1341.2428,-98 1341.2428,-98 1341.2428,-138 1341.2428,-138 1341.2428,-144 1335.2428,-150 1329.2428,-150\"/>\n",
       "<text text-anchor=\"start\" x=\"1178.5635\" y=\"-134.8\" font-family=\"Helvetica,sans-Serif\" font-size=\"14.00\" fill=\"#000000\">TechSupport_No ≤ 0.014</text>\n",
       "<text text-anchor=\"start\" x=\"1207.1138\" y=\"-120.8\" font-family=\"Helvetica,sans-Serif\" font-size=\"14.00\" fill=\"#000000\">entropy = 0.984</text>\n",
       "<text text-anchor=\"start\" x=\"1210.2344\" y=\"-106.8\" font-family=\"Helvetica,sans-Serif\" font-size=\"14.00\" fill=\"#000000\">samples = 563</text>\n",
       "<text text-anchor=\"start\" x=\"1200.1069\" y=\"-92.8\" font-family=\"Helvetica,sans-Serif\" font-size=\"14.00\" fill=\"#000000\">value = [323, 240]</text>\n",
       "</g>\n",
       "<!-- 17&#45;&gt;18 -->\n",
       "<g id=\"edge18\" class=\"edge\">\n",
       "<title>17&#45;&gt;18</title>\n",
       "<path fill=\"none\" stroke=\"#000000\" d=\"M1321.0531,-185.8089C1312.4031,-176.7985 1302.9009,-166.9004 1293.8938,-157.518\"/>\n",
       "<polygon fill=\"#000000\" stroke=\"#000000\" points=\"1296.2523,-154.9208 1286.8021,-150.1308 1291.2026,-159.7685 1296.2523,-154.9208\"/>\n",
       "</g>\n",
       "<!-- 21 -->\n",
       "<g id=\"node22\" class=\"node\">\n",
       "<title>21</title>\n",
       "<path fill=\"#e58139\" fill-opacity=\"0.780392\" stroke=\"#000000\" d=\"M1526.8016,-150C1526.8016,-150 1371.1115,-150 1371.1115,-150 1365.1115,-150 1359.1115,-144 1359.1115,-138 1359.1115,-138 1359.1115,-98 1359.1115,-98 1359.1115,-92 1365.1115,-86 1371.1115,-86 1371.1115,-86 1526.8016,-86 1526.8016,-86 1532.8016,-86 1538.8016,-92 1538.8016,-98 1538.8016,-98 1538.8016,-138 1538.8016,-138 1538.8016,-144 1532.8016,-150 1526.8016,-150\"/>\n",
       "<text text-anchor=\"start\" x=\"1367.2842\" y=\"-134.8\" font-family=\"Helvetica,sans-Serif\" font-size=\"14.00\" fill=\"#000000\">PhoneService_No ≤ 1.363</text>\n",
       "<text text-anchor=\"start\" x=\"1400.1138\" y=\"-120.8\" font-family=\"Helvetica,sans-Serif\" font-size=\"14.00\" fill=\"#000000\">entropy = 0.679</text>\n",
       "<text text-anchor=\"start\" x=\"1403.2344\" y=\"-106.8\" font-family=\"Helvetica,sans-Serif\" font-size=\"14.00\" fill=\"#000000\">samples = 824</text>\n",
       "<text text-anchor=\"start\" x=\"1393.1069\" y=\"-92.8\" font-family=\"Helvetica,sans-Serif\" font-size=\"14.00\" fill=\"#000000\">value = [676, 148]</text>\n",
       "</g>\n",
       "<!-- 17&#45;&gt;21 -->\n",
       "<g id=\"edge21\" class=\"edge\">\n",
       "<title>17&#45;&gt;21</title>\n",
       "<path fill=\"none\" stroke=\"#000000\" d=\"M1383.1819,-185.8089C1391.922,-176.7985 1401.5232,-166.9004 1410.6241,-157.518\"/>\n",
       "<polygon fill=\"#000000\" stroke=\"#000000\" points=\"1413.3394,-159.7456 1417.7897,-150.1308 1408.3148,-154.8718 1413.3394,-159.7456\"/>\n",
       "</g>\n",
       "<!-- 19 -->\n",
       "<g id=\"node20\" class=\"node\">\n",
       "<title>19</title>\n",
       "<path fill=\"#e58139\" fill-opacity=\"0.584314\" stroke=\"#000000\" d=\"M1187.8697,-50C1187.8697,-50 1092.0434,-50 1092.0434,-50 1086.0434,-50 1080.0434,-44 1080.0434,-38 1080.0434,-38 1080.0434,-12 1080.0434,-12 1080.0434,-6 1086.0434,0 1092.0434,0 1092.0434,0 1187.8697,0 1187.8697,0 1193.8697,0 1199.8697,-6 1199.8697,-12 1199.8697,-12 1199.8697,-38 1199.8697,-38 1199.8697,-44 1193.8697,-50 1187.8697,-50\"/>\n",
       "<text text-anchor=\"start\" x=\"1091.1138\" y=\"-34.8\" font-family=\"Helvetica,sans-Serif\" font-size=\"14.00\" fill=\"#000000\">entropy = 0.872</text>\n",
       "<text text-anchor=\"start\" x=\"1094.2344\" y=\"-20.8\" font-family=\"Helvetica,sans-Serif\" font-size=\"14.00\" fill=\"#000000\">samples = 263</text>\n",
       "<text text-anchor=\"start\" x=\"1088\" y=\"-6.8\" font-family=\"Helvetica,sans-Serif\" font-size=\"14.00\" fill=\"#000000\">value = [186, 77]</text>\n",
       "</g>\n",
       "<!-- 18&#45;&gt;19 -->\n",
       "<g id=\"edge19\" class=\"edge\">\n",
       "<title>18&#45;&gt;19</title>\n",
       "<path fill=\"none\" stroke=\"#000000\" d=\"M1216.0359,-85.9947C1204.1083,-76.432 1191.0472,-65.9606 1179.1657,-56.4349\"/>\n",
       "<polygon fill=\"#000000\" stroke=\"#000000\" points=\"1181.1483,-53.5385 1171.1568,-50.014 1176.7697,-59 1181.1483,-53.5385\"/>\n",
       "</g>\n",
       "<!-- 20 -->\n",
       "<g id=\"node21\" class=\"node\">\n",
       "<title>20</title>\n",
       "<path fill=\"#399de5\" fill-opacity=\"0.160784\" stroke=\"#000000\" d=\"M1333.6561,-50C1333.6561,-50 1230.257,-50 1230.257,-50 1224.257,-50 1218.257,-44 1218.257,-38 1218.257,-38 1218.257,-12 1218.257,-12 1218.257,-6 1224.257,0 1230.257,0 1230.257,0 1333.6561,0 1333.6561,0 1339.6561,0 1345.6561,-6 1345.6561,-12 1345.6561,-12 1345.6561,-38 1345.6561,-38 1345.6561,-44 1339.6561,-50 1333.6561,-50\"/>\n",
       "<text text-anchor=\"start\" x=\"1233.1138\" y=\"-34.8\" font-family=\"Helvetica,sans-Serif\" font-size=\"14.00\" fill=\"#000000\">entropy = 0.995</text>\n",
       "<text text-anchor=\"start\" x=\"1236.2344\" y=\"-20.8\" font-family=\"Helvetica,sans-Serif\" font-size=\"14.00\" fill=\"#000000\">samples = 300</text>\n",
       "<text text-anchor=\"start\" x=\"1226.1069\" y=\"-6.8\" font-family=\"Helvetica,sans-Serif\" font-size=\"14.00\" fill=\"#000000\">value = [137, 163]</text>\n",
       "</g>\n",
       "<!-- 18&#45;&gt;20 -->\n",
       "<g id=\"edge20\" class=\"edge\">\n",
       "<title>18&#45;&gt;20</title>\n",
       "<path fill=\"none\" stroke=\"#000000\" d=\"M1264.9043,-85.9947C1267.2692,-77.5354 1269.833,-68.365 1272.2367,-59.7672\"/>\n",
       "<polygon fill=\"#000000\" stroke=\"#000000\" points=\"1275.6416,-60.5871 1274.9634,-50.014 1268.9001,-58.7024 1275.6416,-60.5871\"/>\n",
       "</g>\n",
       "<!-- 22 -->\n",
       "<g id=\"node23\" class=\"node\">\n",
       "<title>22</title>\n",
       "<path fill=\"#e58139\" fill-opacity=\"0.843137\" stroke=\"#000000\" d=\"M1471.8697,-50C1471.8697,-50 1376.0434,-50 1376.0434,-50 1370.0434,-50 1364.0434,-44 1364.0434,-38 1364.0434,-38 1364.0434,-12 1364.0434,-12 1364.0434,-6 1370.0434,0 1376.0434,0 1376.0434,0 1471.8697,0 1471.8697,0 1477.8697,0 1483.8697,-6 1483.8697,-12 1483.8697,-12 1483.8697,-38 1483.8697,-38 1483.8697,-44 1477.8697,-50 1471.8697,-50\"/>\n",
       "<text text-anchor=\"start\" x=\"1375.1138\" y=\"-34.8\" font-family=\"Helvetica,sans-Serif\" font-size=\"14.00\" fill=\"#000000\">entropy = 0.573</text>\n",
       "<text text-anchor=\"start\" x=\"1378.2344\" y=\"-20.8\" font-family=\"Helvetica,sans-Serif\" font-size=\"14.00\" fill=\"#000000\">samples = 627</text>\n",
       "<text text-anchor=\"start\" x=\"1372\" y=\"-6.8\" font-family=\"Helvetica,sans-Serif\" font-size=\"14.00\" fill=\"#000000\">value = [542, 85]</text>\n",
       "</g>\n",
       "<!-- 21&#45;&gt;22 -->\n",
       "<g id=\"edge22\" class=\"edge\">\n",
       "<title>21&#45;&gt;22</title>\n",
       "<path fill=\"none\" stroke=\"#000000\" d=\"M1440.353,-85.9947C1438.079,-77.5354 1435.6138,-68.365 1433.3026,-59.7672\"/>\n",
       "<polygon fill=\"#000000\" stroke=\"#000000\" points=\"1436.6568,-58.7626 1430.6807,-50.014 1429.8968,-60.5798 1436.6568,-58.7626\"/>\n",
       "</g>\n",
       "<!-- 23 -->\n",
       "<g id=\"node24\" class=\"node\">\n",
       "<title>23</title>\n",
       "<path fill=\"#e58139\" fill-opacity=\"0.529412\" stroke=\"#000000\" d=\"M1609.8697,-50C1609.8697,-50 1514.0434,-50 1514.0434,-50 1508.0434,-50 1502.0434,-44 1502.0434,-38 1502.0434,-38 1502.0434,-12 1502.0434,-12 1502.0434,-6 1508.0434,0 1514.0434,0 1514.0434,0 1609.8697,0 1609.8697,0 1615.8697,0 1621.8697,-6 1621.8697,-12 1621.8697,-12 1621.8697,-38 1621.8697,-38 1621.8697,-44 1615.8697,-50 1609.8697,-50\"/>\n",
       "<text text-anchor=\"start\" x=\"1513.1138\" y=\"-34.8\" font-family=\"Helvetica,sans-Serif\" font-size=\"14.00\" fill=\"#000000\">entropy = 0.904</text>\n",
       "<text text-anchor=\"start\" x=\"1516.2344\" y=\"-20.8\" font-family=\"Helvetica,sans-Serif\" font-size=\"14.00\" fill=\"#000000\">samples = 197</text>\n",
       "<text text-anchor=\"start\" x=\"1510\" y=\"-6.8\" font-family=\"Helvetica,sans-Serif\" font-size=\"14.00\" fill=\"#000000\">value = [134, 63]</text>\n",
       "</g>\n",
       "<!-- 21&#45;&gt;23 -->\n",
       "<g id=\"edge23\" class=\"edge\">\n",
       "<title>21&#45;&gt;23</title>\n",
       "<path fill=\"none\" stroke=\"#000000\" d=\"M1487.8447,-85.9947C1499.4639,-76.432 1512.1872,-65.9606 1523.7615,-56.4349\"/>\n",
       "<polygon fill=\"#000000\" stroke=\"#000000\" points=\"1526.066,-59.0712 1531.5632,-50.014 1521.6177,-53.6663 1526.066,-59.0712\"/>\n",
       "</g>\n",
       "<!-- 25 -->\n",
       "<g id=\"node26\" class=\"node\">\n",
       "<title>25</title>\n",
       "<path fill=\"#399de5\" fill-opacity=\"0.549020\" stroke=\"#000000\" d=\"M1790.6054,-150C1790.6054,-150 1661.3077,-150 1661.3077,-150 1655.3077,-150 1649.3077,-144 1649.3077,-138 1649.3077,-138 1649.3077,-98 1649.3077,-98 1649.3077,-92 1655.3077,-86 1661.3077,-86 1661.3077,-86 1790.6054,-86 1790.6054,-86 1796.6054,-86 1802.6054,-92 1802.6054,-98 1802.6054,-98 1802.6054,-138 1802.6054,-138 1802.6054,-144 1796.6054,-150 1790.6054,-150\"/>\n",
       "<text text-anchor=\"start\" x=\"1657.1323\" y=\"-134.8\" font-family=\"Helvetica,sans-Serif\" font-size=\"14.00\" fill=\"#000000\">TotalCharges ≤ &#45;0.954</text>\n",
       "<text text-anchor=\"start\" x=\"1677.1138\" y=\"-120.8\" font-family=\"Helvetica,sans-Serif\" font-size=\"14.00\" fill=\"#000000\">entropy = 0.893</text>\n",
       "<text text-anchor=\"start\" x=\"1680.2344\" y=\"-106.8\" font-family=\"Helvetica,sans-Serif\" font-size=\"14.00\" fill=\"#000000\">samples = 861</text>\n",
       "<text text-anchor=\"start\" x=\"1670.1069\" y=\"-92.8\" font-family=\"Helvetica,sans-Serif\" font-size=\"14.00\" fill=\"#000000\">value = [267, 594]</text>\n",
       "</g>\n",
       "<!-- 24&#45;&gt;25 -->\n",
       "<g id=\"edge25\" class=\"edge\">\n",
       "<title>24&#45;&gt;25</title>\n",
       "<path fill=\"none\" stroke=\"#000000\" d=\"M1725.9565,-185.8089C1725.9565,-177.6906 1725.9565,-168.8517 1725.9565,-160.3186\"/>\n",
       "<polygon fill=\"#000000\" stroke=\"#000000\" points=\"1729.4566,-160.1307 1725.9565,-150.1308 1722.4566,-160.1308 1729.4566,-160.1307\"/>\n",
       "</g>\n",
       "<!-- 28 -->\n",
       "<g id=\"node29\" class=\"node\">\n",
       "<title>28</title>\n",
       "<path fill=\"#e58139\" fill-opacity=\"0.309804\" stroke=\"#000000\" d=\"M2114.1148,-150C2114.1148,-150 1859.7983,-150 1859.7983,-150 1853.7983,-150 1847.7983,-144 1847.7983,-138 1847.7983,-138 1847.7983,-98 1847.7983,-98 1847.7983,-92 1853.7983,-86 1859.7983,-86 1859.7983,-86 2114.1148,-86 2114.1148,-86 2120.1148,-86 2126.1148,-92 2126.1148,-98 2126.1148,-98 2126.1148,-138 2126.1148,-138 2126.1148,-144 2120.1148,-150 2114.1148,-150\"/>\n",
       "<text text-anchor=\"start\" x=\"1855.8774\" y=\"-134.8\" font-family=\"Helvetica,sans-Serif\" font-size=\"14.00\" fill=\"#000000\">PaymentMethod_Electronic check ≤ 0.348</text>\n",
       "<text text-anchor=\"start\" x=\"1938.1138\" y=\"-120.8\" font-family=\"Helvetica,sans-Serif\" font-size=\"14.00\" fill=\"#000000\">entropy = 0.976</text>\n",
       "<text text-anchor=\"start\" x=\"1941.2344\" y=\"-106.8\" font-family=\"Helvetica,sans-Serif\" font-size=\"14.00\" fill=\"#000000\">samples = 844</text>\n",
       "<text text-anchor=\"start\" x=\"1931.1069\" y=\"-92.8\" font-family=\"Helvetica,sans-Serif\" font-size=\"14.00\" fill=\"#000000\">value = [499, 345]</text>\n",
       "</g>\n",
       "<!-- 24&#45;&gt;28 -->\n",
       "<g id=\"edge28\" class=\"edge\">\n",
       "<title>24&#45;&gt;28</title>\n",
       "<path fill=\"none\" stroke=\"#000000\" d=\"M1789.8043,-193.5372C1820.9801,-181.5925 1859.0933,-166.9898 1893.4705,-153.8184\"/>\n",
       "<polygon fill=\"#000000\" stroke=\"#000000\" points=\"1894.9729,-156.9909 1903.0587,-150.1448 1892.4684,-150.4543 1894.9729,-156.9909\"/>\n",
       "</g>\n",
       "<!-- 26 -->\n",
       "<g id=\"node27\" class=\"node\">\n",
       "<title>26</title>\n",
       "<path fill=\"#399de5\" fill-opacity=\"0.823529\" stroke=\"#000000\" d=\"M1747.8697,-50C1747.8697,-50 1652.0434,-50 1652.0434,-50 1646.0434,-50 1640.0434,-44 1640.0434,-38 1640.0434,-38 1640.0434,-12 1640.0434,-12 1640.0434,-6 1646.0434,0 1652.0434,0 1652.0434,0 1747.8697,0 1747.8697,0 1753.8697,0 1759.8697,-6 1759.8697,-12 1759.8697,-12 1759.8697,-38 1759.8697,-38 1759.8697,-44 1753.8697,-50 1747.8697,-50\"/>\n",
       "<text text-anchor=\"start\" x=\"1651.1138\" y=\"-34.8\" font-family=\"Helvetica,sans-Serif\" font-size=\"14.00\" fill=\"#000000\">entropy = 0.609</text>\n",
       "<text text-anchor=\"start\" x=\"1654.2344\" y=\"-20.8\" font-family=\"Helvetica,sans-Serif\" font-size=\"14.00\" fill=\"#000000\">samples = 194</text>\n",
       "<text text-anchor=\"start\" x=\"1648\" y=\"-6.8\" font-family=\"Helvetica,sans-Serif\" font-size=\"14.00\" fill=\"#000000\">value = [29, 165]</text>\n",
       "</g>\n",
       "<!-- 25&#45;&gt;26 -->\n",
       "<g id=\"edge26\" class=\"edge\">\n",
       "<title>25&#45;&gt;26</title>\n",
       "<path fill=\"none\" stroke=\"#000000\" d=\"M1717.0088,-85.9947C1714.6439,-77.5354 1712.0801,-68.365 1709.6764,-59.7672\"/>\n",
       "<polygon fill=\"#000000\" stroke=\"#000000\" points=\"1713.013,-58.7024 1706.9497,-50.014 1706.2715,-60.5871 1713.013,-58.7024\"/>\n",
       "</g>\n",
       "<!-- 27 -->\n",
       "<g id=\"node28\" class=\"node\">\n",
       "<title>27</title>\n",
       "<path fill=\"#399de5\" fill-opacity=\"0.447059\" stroke=\"#000000\" d=\"M1893.6561,-50C1893.6561,-50 1790.257,-50 1790.257,-50 1784.257,-50 1778.257,-44 1778.257,-38 1778.257,-38 1778.257,-12 1778.257,-12 1778.257,-6 1784.257,0 1790.257,0 1790.257,0 1893.6561,0 1893.6561,0 1899.6561,0 1905.6561,-6 1905.6561,-12 1905.6561,-12 1905.6561,-38 1905.6561,-38 1905.6561,-44 1899.6561,-50 1893.6561,-50\"/>\n",
       "<text text-anchor=\"start\" x=\"1797.0068\" y=\"-34.8\" font-family=\"Helvetica,sans-Serif\" font-size=\"14.00\" fill=\"#000000\">entropy = 0.94</text>\n",
       "<text text-anchor=\"start\" x=\"1796.2344\" y=\"-20.8\" font-family=\"Helvetica,sans-Serif\" font-size=\"14.00\" fill=\"#000000\">samples = 667</text>\n",
       "<text text-anchor=\"start\" x=\"1786.1069\" y=\"-6.8\" font-family=\"Helvetica,sans-Serif\" font-size=\"14.00\" fill=\"#000000\">value = [238, 429]</text>\n",
       "</g>\n",
       "<!-- 25&#45;&gt;27 -->\n",
       "<g id=\"edge27\" class=\"edge\">\n",
       "<title>25&#45;&gt;27</title>\n",
       "<path fill=\"none\" stroke=\"#000000\" d=\"M1765.8772,-85.9947C1777.8048,-76.432 1790.8659,-65.9606 1802.7474,-56.4349\"/>\n",
       "<polygon fill=\"#000000\" stroke=\"#000000\" points=\"1805.1434,-59 1810.7562,-50.014 1800.7648,-53.5385 1805.1434,-59\"/>\n",
       "</g>\n",
       "<!-- 29 -->\n",
       "<g id=\"node30\" class=\"node\">\n",
       "<title>29</title>\n",
       "<path fill=\"#e58139\" fill-opacity=\"0.556863\" stroke=\"#000000\" d=\"M2038.124,-50C2038.124,-50 1935.7891,-50 1935.7891,-50 1929.7891,-50 1923.7891,-44 1923.7891,-38 1923.7891,-38 1923.7891,-12 1923.7891,-12 1923.7891,-6 1929.7891,0 1935.7891,0 1935.7891,0 2038.124,0 2038.124,0 2044.124,0 2050.124,-6 2050.124,-12 2050.124,-12 2050.124,-38 2050.124,-38 2050.124,-44 2044.124,-50 2038.124,-50\"/>\n",
       "<text text-anchor=\"start\" x=\"1942.0068\" y=\"-34.8\" font-family=\"Helvetica,sans-Serif\" font-size=\"14.00\" fill=\"#000000\">entropy = 0.89</text>\n",
       "<text text-anchor=\"start\" x=\"1941.2344\" y=\"-20.8\" font-family=\"Helvetica,sans-Serif\" font-size=\"14.00\" fill=\"#000000\">samples = 384</text>\n",
       "<text text-anchor=\"start\" x=\"1931.623\" y=\"-6.8\" font-family=\"Helvetica,sans-Serif\" font-size=\"14.00\" fill=\"#000000\">value = [266, 118]</text>\n",
       "</g>\n",
       "<!-- 28&#45;&gt;29 -->\n",
       "<g id=\"edge29\" class=\"edge\">\n",
       "<title>28&#45;&gt;29</title>\n",
       "<path fill=\"none\" stroke=\"#000000\" d=\"M1986.9565,-85.9947C1986.9565,-77.6273 1986.9565,-68.5643 1986.9565,-60.0478\"/>\n",
       "<polygon fill=\"#000000\" stroke=\"#000000\" points=\"1990.4566,-60.014 1986.9565,-50.014 1983.4566,-60.0141 1990.4566,-60.014\"/>\n",
       "</g>\n",
       "<!-- 30 -->\n",
       "<g id=\"node31\" class=\"node\">\n",
       "<title>30</title>\n",
       "<path fill=\"#e58139\" fill-opacity=\"0.027451\" stroke=\"#000000\" d=\"M2183.6561,-50C2183.6561,-50 2080.257,-50 2080.257,-50 2074.257,-50 2068.257,-44 2068.257,-38 2068.257,-38 2068.257,-12 2068.257,-12 2068.257,-6 2074.257,0 2080.257,0 2080.257,0 2183.6561,0 2183.6561,0 2189.6561,0 2195.6561,-6 2195.6561,-12 2195.6561,-12 2195.6561,-38 2195.6561,-38 2195.6561,-44 2189.6561,-50 2183.6561,-50\"/>\n",
       "<text text-anchor=\"start\" x=\"2090.8999\" y=\"-34.8\" font-family=\"Helvetica,sans-Serif\" font-size=\"14.00\" fill=\"#000000\">entropy = 1.0</text>\n",
       "<text text-anchor=\"start\" x=\"2086.2344\" y=\"-20.8\" font-family=\"Helvetica,sans-Serif\" font-size=\"14.00\" fill=\"#000000\">samples = 460</text>\n",
       "<text text-anchor=\"start\" x=\"2076.1069\" y=\"-6.8\" font-family=\"Helvetica,sans-Serif\" font-size=\"14.00\" fill=\"#000000\">value = [233, 227]</text>\n",
       "</g>\n",
       "<!-- 28&#45;&gt;30 -->\n",
       "<g id=\"edge30\" class=\"edge\">\n",
       "<title>28&#45;&gt;30</title>\n",
       "<path fill=\"none\" stroke=\"#000000\" d=\"M2036.8573,-85.9947C2052.1969,-76.1562 2069.0363,-65.3558 2084.2267,-55.613\"/>\n",
       "<polygon fill=\"#000000\" stroke=\"#000000\" points=\"2086.4283,-58.359 2092.9562,-50.014 2082.6491,-52.4667 2086.4283,-58.359\"/>\n",
       "</g>\n",
       "</g>\n",
       "</svg>\n"
      ],
      "text/plain": [
       "<graphviz.files.Source at 0x11dba6198>"
      ]
     },
     "execution_count": 75,
     "metadata": {},
     "output_type": "execute_result"
    }
   ],
   "source": [
    "dot_data = tree.export_graphviz(dt_clf, out_file=None)\n",
    "dot_data = tree.export_graphviz(dt_clf, out_file=None, \n",
    "                         feature_names=X_df.columns,  \n",
    "                         filled=True, rounded=True,  \n",
    "                         special_characters=True) \n",
    "graph = graphviz.Source(dot_data)\n",
    "graph"
   ]
  },
  {
   "cell_type": "markdown",
   "metadata": {},
   "source": [
    "### Model complexity curves"
   ]
  },
  {
   "cell_type": "code",
   "execution_count": 119,
   "metadata": {},
   "outputs": [
    {
     "data": {
      "image/png": "[encoded data removed]",
      "text/plain": [
       "<Figure size 432x288 with 1 Axes>"
      ]
     },
     "metadata": {
      "needs_background": "light"
     },
     "output_type": "display_data"
    },
    {
     "data": {
      "text/plain": [
       "<Figure size 864x864 with 0 Axes>"
      ]
     },
     "metadata": {},
     "output_type": "display_data"
    }
   ],
   "source": [
    "max_depth = 16\n",
    "train_auc, test_auc = np.zeros(max_depth), np.zeros(max_depth)\n",
    "for i in range(1, max_depth):\n",
    "    clf = tree.DecisionTreeClassifier(max_depth=i, criterion='entropy')\n",
    "    clf = clf.fit(X_train, y_train)\n",
    "    train_auc[i] = roc_auc_score(y_train, clf.predict_proba(X_train)[:,1])\n",
    "    test_auc[i] = roc_auc_score(y_test, clf.predict_proba(X_test)[:,1])\n",
    "\n",
    "plot_curves('Telco Decision Tree Model Complexity', 'Max Depth', 'ROC AUC', train_auc, test_auc, 'AUC')"
   ]
  },
  {
   "cell_type": "markdown",
   "metadata": {},
   "source": [
    "### Learning curves"
   ]
  },
  {
   "cell_type": "code",
   "execution_count": 120,
   "metadata": {},
   "outputs": [
    {
     "data": {
      "image/png": "[encoded data removed]",
      "text/plain": [
       "<Figure size 432x288 with 1 Axes>"
      ]
     },
     "metadata": {
      "needs_background": "light"
     },
     "output_type": "display_data"
    },
    {
     "data": {
      "text/plain": [
       "<Figure size 864x864 with 0 Axes>"
      ]
     },
     "metadata": {},
     "output_type": "display_data"
    }
   ],
   "source": [
    "learning_curve('Telco Decision Tree', dt_clf)"
   ]
  },
  {
   "cell_type": "markdown",
   "metadata": {},
   "source": [
    "# Neural Network (Multi-layer perceptron)"
   ]
  },
  {
   "cell_type": "code",
   "execution_count": 130,
   "metadata": {},
   "outputs": [
    {
     "name": "stderr",
     "output_type": "stream",
     "text": [
      "/Users/7001695/gtech/machine-learning/venv/lib/python3.6/site-packages/sklearn/neural_network/multilayer_perceptron.py:564: ConvergenceWarning: Stochastic Optimizer: Maximum iterations (3) reached and the optimization hasn't converged yet.\n",
      "  % self.max_iter, ConvergenceWarning)\n"
     ]
    },
    {
     "data": {
      "text/plain": [
       "MLPClassifier(activation='relu', alpha=1.0, batch_size='auto', beta_1=0.9,\n",
       "       beta_2=0.999, early_stopping=False, epsilon=1e-08,\n",
       "       hidden_layer_sizes=(30, 30), learning_rate='constant',\n",
       "       learning_rate_init=0.001, max_iter=3, momentum=0.9,\n",
       "       nesterovs_momentum=True, power_t=0.5, random_state=21, shuffle=True,\n",
       "       solver='adam', tol=0.0001, validation_fraction=0.1, verbose=False,\n",
       "       warm_start=False)"
      ]
     },
     "execution_count": 130,
     "metadata": {},
     "output_type": "execute_result"
    }
   ],
   "source": [
    "mlp_clf = MLPClassifier(solver='adam', alpha=1.0, activation='relu',\n",
    "                        learning_rate='constant', random_state=RANDOM_STATE,\n",
    "                        hidden_layer_sizes=(30, 30), max_iter=3)\n",
    "mlp_clf.fit(X_train, y_train)"
   ]
  },
  {
   "cell_type": "markdown",
   "metadata": {},
   "source": [
    "### Model complexity curves"
   ]
  },
  {
   "cell_type": "code",
   "execution_count": 122,
   "metadata": {},
   "outputs": [
    {
     "name": "stderr",
     "output_type": "stream",
     "text": [
      "/Users/7001695/gtech/machine-learning/venv/lib/python3.6/site-packages/sklearn/neural_network/multilayer_perceptron.py:564: ConvergenceWarning: Stochastic Optimizer: Maximum iterations (1) reached and the optimization hasn't converged yet.\n",
      "  % self.max_iter, ConvergenceWarning)\n",
      "/Users/7001695/gtech/machine-learning/venv/lib/python3.6/site-packages/sklearn/neural_network/multilayer_perceptron.py:564: ConvergenceWarning: Stochastic Optimizer: Maximum iterations (2) reached and the optimization hasn't converged yet.\n",
      "  % self.max_iter, ConvergenceWarning)\n",
      "/Users/7001695/gtech/machine-learning/venv/lib/python3.6/site-packages/sklearn/neural_network/multilayer_perceptron.py:564: ConvergenceWarning: Stochastic Optimizer: Maximum iterations (3) reached and the optimization hasn't converged yet.\n",
      "  % self.max_iter, ConvergenceWarning)\n",
      "/Users/7001695/gtech/machine-learning/venv/lib/python3.6/site-packages/sklearn/neural_network/multilayer_perceptron.py:564: ConvergenceWarning: Stochastic Optimizer: Maximum iterations (4) reached and the optimization hasn't converged yet.\n",
      "  % self.max_iter, ConvergenceWarning)\n",
      "/Users/7001695/gtech/machine-learning/venv/lib/python3.6/site-packages/sklearn/neural_network/multilayer_perceptron.py:564: ConvergenceWarning: Stochastic Optimizer: Maximum iterations (5) reached and the optimization hasn't converged yet.\n",
      "  % self.max_iter, ConvergenceWarning)\n",
      "/Users/7001695/gtech/machine-learning/venv/lib/python3.6/site-packages/sklearn/neural_network/multilayer_perceptron.py:564: ConvergenceWarning: Stochastic Optimizer: Maximum iterations (6) reached and the optimization hasn't converged yet.\n",
      "  % self.max_iter, ConvergenceWarning)\n",
      "/Users/7001695/gtech/machine-learning/venv/lib/python3.6/site-packages/sklearn/neural_network/multilayer_perceptron.py:564: ConvergenceWarning: Stochastic Optimizer: Maximum iterations (7) reached and the optimization hasn't converged yet.\n",
      "  % self.max_iter, ConvergenceWarning)\n",
      "/Users/7001695/gtech/machine-learning/venv/lib/python3.6/site-packages/sklearn/neural_network/multilayer_perceptron.py:564: ConvergenceWarning: Stochastic Optimizer: Maximum iterations (8) reached and the optimization hasn't converged yet.\n",
      "  % self.max_iter, ConvergenceWarning)\n",
      "/Users/7001695/gtech/machine-learning/venv/lib/python3.6/site-packages/sklearn/neural_network/multilayer_perceptron.py:564: ConvergenceWarning: Stochastic Optimizer: Maximum iterations (9) reached and the optimization hasn't converged yet.\n",
      "  % self.max_iter, ConvergenceWarning)\n",
      "/Users/7001695/gtech/machine-learning/venv/lib/python3.6/site-packages/sklearn/neural_network/multilayer_perceptron.py:564: ConvergenceWarning: Stochastic Optimizer: Maximum iterations (10) reached and the optimization hasn't converged yet.\n",
      "  % self.max_iter, ConvergenceWarning)\n",
      "/Users/7001695/gtech/machine-learning/venv/lib/python3.6/site-packages/sklearn/neural_network/multilayer_perceptron.py:564: ConvergenceWarning: Stochastic Optimizer: Maximum iterations (11) reached and the optimization hasn't converged yet.\n",
      "  % self.max_iter, ConvergenceWarning)\n",
      "/Users/7001695/gtech/machine-learning/venv/lib/python3.6/site-packages/sklearn/neural_network/multilayer_perceptron.py:564: ConvergenceWarning: Stochastic Optimizer: Maximum iterations (12) reached and the optimization hasn't converged yet.\n",
      "  % self.max_iter, ConvergenceWarning)\n",
      "/Users/7001695/gtech/machine-learning/venv/lib/python3.6/site-packages/sklearn/neural_network/multilayer_perceptron.py:564: ConvergenceWarning: Stochastic Optimizer: Maximum iterations (13) reached and the optimization hasn't converged yet.\n",
      "  % self.max_iter, ConvergenceWarning)\n",
      "/Users/7001695/gtech/machine-learning/venv/lib/python3.6/site-packages/sklearn/neural_network/multilayer_perceptron.py:564: ConvergenceWarning: Stochastic Optimizer: Maximum iterations (14) reached and the optimization hasn't converged yet.\n",
      "  % self.max_iter, ConvergenceWarning)\n",
      "/Users/7001695/gtech/machine-learning/venv/lib/python3.6/site-packages/sklearn/neural_network/multilayer_perceptron.py:564: ConvergenceWarning: Stochastic Optimizer: Maximum iterations (15) reached and the optimization hasn't converged yet.\n",
      "  % self.max_iter, ConvergenceWarning)\n",
      "/Users/7001695/gtech/machine-learning/venv/lib/python3.6/site-packages/sklearn/neural_network/multilayer_perceptron.py:564: ConvergenceWarning: Stochastic Optimizer: Maximum iterations (16) reached and the optimization hasn't converged yet.\n",
      "  % self.max_iter, ConvergenceWarning)\n",
      "/Users/7001695/gtech/machine-learning/venv/lib/python3.6/site-packages/sklearn/neural_network/multilayer_perceptron.py:564: ConvergenceWarning: Stochastic Optimizer: Maximum iterations (17) reached and the optimization hasn't converged yet.\n",
      "  % self.max_iter, ConvergenceWarning)\n",
      "/Users/7001695/gtech/machine-learning/venv/lib/python3.6/site-packages/sklearn/neural_network/multilayer_perceptron.py:564: ConvergenceWarning: Stochastic Optimizer: Maximum iterations (18) reached and the optimization hasn't converged yet.\n",
      "  % self.max_iter, ConvergenceWarning)\n",
      "/Users/7001695/gtech/machine-learning/venv/lib/python3.6/site-packages/sklearn/neural_network/multilayer_perceptron.py:564: ConvergenceWarning: Stochastic Optimizer: Maximum iterations (19) reached and the optimization hasn't converged yet.\n",
      "  % self.max_iter, ConvergenceWarning)\n"
     ]
    },
    {
     "data": {
      "image/png": "[encoded data removed]",
      "text/plain": [
       "<Figure size 432x288 with 1 Axes>"
      ]
     },
     "metadata": {
      "needs_background": "light"
     },
     "output_type": "display_data"
    },
    {
     "data": {
      "text/plain": [
       "<Figure size 864x864 with 0 Axes>"
      ]
     },
     "metadata": {},
     "output_type": "display_data"
    }
   ],
   "source": [
    "epochs = 20\n",
    "train_auc1, test_auc1 = np.zeros(epochs), np.zeros(epochs)\n",
    "train_auc2, test_auc2 = np.zeros(epochs), np.zeros(epochs)\n",
    "for i in range(1, epochs):\n",
    "    # Single layer\n",
    "    clf1 = MLPClassifier(solver='adam', alpha=0.1, activation='relu', batch_size=20,\n",
    "                        learning_rate='constant', random_state=RANDOM_STATE,\n",
    "                        hidden_layer_sizes=(30), max_iter=i)\n",
    "    clf1 = clf1.fit(X_train, y_train)\n",
    "    train_auc1[i] = roc_auc_score(y_train, clf1.predict_proba(X_train)[:,1])\n",
    "    test_auc1[i] = roc_auc_score(y_test, clf1.predict_proba(X_test)[:,1])\n",
    "\n",
    "    # Two layers\n",
    "    clf2 = MLPClassifier(solver='adam', alpha=1.0, activation='relu', batch_size=20,\n",
    "                        learning_rate='constant', random_state=1,\n",
    "                        hidden_layer_sizes=(30, 30), max_iter=i)\n",
    "    clf2 = clf2.fit(X_train, y_train)\n",
    "    train_auc2[i] = roc_auc_score(y_train, clf2.predict_proba(X_train)[:,1])\n",
    "    test_auc2[i] = roc_auc_score(y_test, clf2.predict_proba(X_test)[:,1])\n",
    "\n",
    "# Create plot\n",
    "plt.plot(train_auc1, linewidth=3, label='1 Layer - Training AUC')\n",
    "plt.plot(test_auc1, linewidth=3, label='1 Layer - Test AUC')\n",
    "plt.plot(train_auc2, linewidth=3, label='2 Layers - Training AUC')\n",
    "plt.plot(test_auc2, linewidth=3, label='2 Layers - Test AUC')\n",
    "plt.legend()\n",
    "plt.title('Telco MLP Model Complexity')\n",
    "plt.ylim(0.3, 1.0)\n",
    "plt.xlabel('Epochs')\n",
    "plt.ylabel('ROC AUC')\n",
    "plt.figure(figsize=(12,12))\n",
    "plt.show()"
   ]
  },
  {
   "cell_type": "markdown",
   "metadata": {},
   "source": [
    "# Learning curves"
   ]
  },
  {
   "cell_type": "code",
   "execution_count": 131,
   "metadata": {},
   "outputs": [
    {
     "name": "stderr",
     "output_type": "stream",
     "text": [
      "/Users/7001695/gtech/machine-learning/venv/lib/python3.6/site-packages/sklearn/neural_network/multilayer_perceptron.py:564: ConvergenceWarning: Stochastic Optimizer: Maximum iterations (3) reached and the optimization hasn't converged yet.\n",
      "  % self.max_iter, ConvergenceWarning)\n"
     ]
    },
    {
     "data": {
      "image/png": "[encoded data removed]",
      "text/plain": [
       "<Figure size 432x288 with 1 Axes>"
      ]
     },
     "metadata": {
      "needs_background": "light"
     },
     "output_type": "display_data"
    },
    {
     "data": {
      "text/plain": [
       "<Figure size 864x864 with 0 Axes>"
      ]
     },
     "metadata": {},
     "output_type": "display_data"
    }
   ],
   "source": [
    "learning_curve('MLP', mlp_clf)"
   ]
  },
  {
   "cell_type": "markdown",
   "metadata": {},
   "source": [
    "# Boosting"
   ]
  },
  {
   "cell_type": "code",
   "execution_count": 88,
   "metadata": {},
   "outputs": [],
   "source": [
    "boost_clf = GradientBoostingClassifier(max_depth=5, n_estimators=20)\n",
    "boost_clf = boost_clf.fit(X_train, y_train)"
   ]
  },
  {
   "cell_type": "markdown",
   "metadata": {},
   "source": [
    "### Model complexity curves"
   ]
  },
  {
   "cell_type": "code",
   "execution_count": 132,
   "metadata": {},
   "outputs": [
    {
     "name": "stdout",
     "output_type": "stream",
     "text": [
      "Depth 4 done.\n",
      "Depth 5 done.\n",
      "Depth 6 done.\n"
     ]
    },
    {
     "data": {
      "image/png": "[encoded data removed]",
      "text/plain": [
       "<Figure size 432x288 with 1 Axes>"
      ]
     },
     "metadata": {
      "needs_background": "light"
     },
     "output_type": "display_data"
    },
    {
     "data": {
      "text/plain": [
       "<Figure size 864x864 with 0 Axes>"
      ]
     },
     "metadata": {},
     "output_type": "display_data"
    }
   ],
   "source": [
    "n_estimators, n_step = (101, 10)\n",
    "min_depth, max_depth = (4, 7)\n",
    "for i in range(min_depth, max_depth):\n",
    "    train_auc, test_auc = [], []\n",
    "    x_step = []\n",
    "    for j in range(n_step, n_estimators, n_step):\n",
    "        clf = GradientBoostingClassifier(max_depth=i, n_estimators=j)\n",
    "        clf = clf.fit(X_train, y_train)\n",
    "        x_step.append(j)\n",
    "        \n",
    "        train_auc.append(roc_auc_score(y_train, clf.predict_proba(X_train)[:,1]))\n",
    "        test_auc.append(roc_auc_score(y_test, clf.predict_proba(X_test)[:,1]))\n",
    "    \n",
    "    plt.plot(np.array(x_step), np.array(train_auc), label='Train Max Depth %d' % i)\n",
    "    plt.plot(np.array(x_step), np.array(test_auc), label='Test Max Depth %d' % i)\n",
    "    print('Depth %s done.' % i)\n",
    "\n",
    "plt.legend()\n",
    "plt.title('Telco Boosting Model Complexity')\n",
    "plt.ylim(0.5, 1.0)\n",
    "plt.xlabel('# of Estimators')\n",
    "plt.ylabel('ROC AUC')\n",
    "plt.figure(figsize=(12,12))\n",
    "plt.show()"
   ]
  },
  {
   "cell_type": "markdown",
   "metadata": {},
   "source": [
    "### Learning curves"
   ]
  },
  {
   "cell_type": "code",
   "execution_count": 133,
   "metadata": {},
   "outputs": [
    {
     "data": {
      "image/png": "[encoded data removed]",
      "text/plain": [
       "<Figure size 432x288 with 1 Axes>"
      ]
     },
     "metadata": {
      "needs_background": "light"
     },
     "output_type": "display_data"
    },
    {
     "data": {
      "text/plain": [
       "<Figure size 864x864 with 0 Axes>"
      ]
     },
     "metadata": {},
     "output_type": "display_data"
    }
   ],
   "source": [
    "learning_curve('Telco Boosting', GradientBoostingClassifier(max_depth=5, n_estimators=20))"
   ]
  },
  {
   "cell_type": "markdown",
   "metadata": {},
   "source": [
    "# Support Vector Machines"
   ]
  },
  {
   "cell_type": "code",
   "execution_count": 94,
   "metadata": {},
   "outputs": [],
   "source": [
    "svm_clf = SVC(kernel='linear', random_state=RANDOM_STATE, probability=True)\n",
    "svm_clf = svm_clf.fit(X_train, y_train)"
   ]
  },
  {
   "cell_type": "markdown",
   "metadata": {},
   "source": [
    "### Model selection"
   ]
  },
  {
   "cell_type": "code",
   "execution_count": 93,
   "metadata": {},
   "outputs": [
    {
     "name": "stdout",
     "output_type": "stream",
     "text": [
      "('linear', 0) {'train_auc': 0.8442364457186353, 'test_auc': 0.8194373401534527, 'cross_val_auc': 0.833232383885943}\n",
      "('poly', 2) {'train_auc': 0.8440596463527859, 'test_auc': 0.78966777751944, 'cross_val_auc': 0.8123018893371199}\n",
      "('poly', 3) {'train_auc': 0.8860490109174416, 'test_auc': 0.798437055981813, 'cross_val_auc': 0.8116770925980319}\n",
      "('rbf', 0) {'train_auc': 0.8773384099854472, 'test_auc': 0.7817368053940943, 'cross_val_auc': 0.798771167993567}\n"
     ]
    }
   ],
   "source": [
    "kernels = (('linear', 0), ('poly', 2), ('poly', 3), ('rbf', 0))\n",
    "for k in kernels:\n",
    "    clf = SVC(kernel=k[0], degree=k[1], random_state=RANDOM_STATE, probability=True)\n",
    "    clf = clf.fit(X_train, y_train)\n",
    "\n",
    "    train_auc = roc_auc_score(y_train, clf.predict_proba(X_train)[:,1])\n",
    "    test_auc = roc_auc_score(y_test, clf.predict_proba(X_test)[:,1])\n",
    "    cross_val_auc = np.mean(cross_val_score(clf, X, y, cv=5, scoring='roc_auc'))\n",
    "    \n",
    "    print(k, {'train_auc': train_auc, 'test_auc': test_auc, 'cross_val_auc': cross_val_auc})"
   ]
  },
  {
   "cell_type": "markdown",
   "metadata": {},
   "source": [
    "### Learning curves"
   ]
  },
  {
   "cell_type": "code",
   "execution_count": 135,
   "metadata": {},
   "outputs": [
    {
     "data": {
      "image/png": "[encoded data removed]",
      "text/plain": [
       "<Figure size 432x288 with 1 Axes>"
      ]
     },
     "metadata": {
      "needs_background": "light"
     },
     "output_type": "display_data"
    },
    {
     "data": {
      "text/plain": [
       "<Figure size 864x864 with 0 Axes>"
      ]
     },
     "metadata": {},
     "output_type": "display_data"
    }
   ],
   "source": [
    "learning_curve('SVM', SVC(kernel='linear', random_state=RANDOM_STATE, probability=True))"
   ]
  },
  {
   "cell_type": "markdown",
   "metadata": {},
   "source": [
    "# K-Nearest Neighbors"
   ]
  },
  {
   "cell_type": "code",
   "execution_count": 100,
   "metadata": {},
   "outputs": [],
   "source": [
    "knn_clf = KNeighborsClassifier(n_neighbors=60)\n",
    "knn_clf = knn_clf.fit(X_train, y_train)"
   ]
  },
  {
   "cell_type": "markdown",
   "metadata": {},
   "source": [
    "### Model complexity"
   ]
  },
  {
   "cell_type": "code",
   "execution_count": 139,
   "metadata": {},
   "outputs": [
    {
     "name": "stdout",
     "output_type": "stream",
     "text": [
      "1 neighbors\n",
      "6 neighbors\n",
      "11 neighbors\n",
      "16 neighbors\n",
      "21 neighbors\n",
      "26 neighbors\n",
      "31 neighbors\n",
      "36 neighbors\n",
      "41 neighbors\n",
      "46 neighbors\n",
      "51 neighbors\n",
      "56 neighbors\n",
      "61 neighbors\n",
      "66 neighbors\n",
      "71 neighbors\n",
      "76 neighbors\n",
      "81 neighbors\n",
      "86 neighbors\n",
      "91 neighbors\n",
      "96 neighbors\n"
     ]
    },
    {
     "data": {
      "image/png": "[encoded data removed]",
      "text/plain": [
       "<Figure size 432x288 with 1 Axes>"
      ]
     },
     "metadata": {
      "needs_background": "light"
     },
     "output_type": "display_data"
    },
    {
     "data": {
      "text/plain": [
       "<Figure size 864x864 with 0 Axes>"
      ]
     },
     "metadata": {},
     "output_type": "display_data"
    }
   ],
   "source": [
    "max_neighbors, step = (101, 5)\n",
    "train_auc, test_auc = [], []\n",
    "x_step = []\n",
    "for i in range(1, max_neighbors, step):\n",
    "    print('%d neighbors' % i)\n",
    "    clf = KNeighborsClassifier(n_neighbors=i)\n",
    "    clf = clf.fit(X_train, y_train)\n",
    "    x_step.append(i)\n",
    "\n",
    "    train_auc.append(roc_auc_score(y_train, clf.predict_proba(X_train)[:,1]))\n",
    "    test_auc.append(roc_auc_score(y_test, clf.predict_proba(X_test)[:,1]))\n",
    "\n",
    "plt.plot(np.array(x_step), np.array(train_auc), label='Train ROC')\n",
    "plt.plot(np.array(x_step), np.array(test_auc), label='Test ROC')\n",
    "plt.legend()\n",
    "plt.title('Telco KNN Model Complexity')\n",
    "plt.ylim(0.5, 1.0)\n",
    "plt.xlabel('# of Neighbors')\n",
    "plt.ylabel('ROC AUC')\n",
    "plt.figure(figsize=(12,12))\n",
    "plt.show()"
   ]
  },
  {
   "cell_type": "markdown",
   "metadata": {},
   "source": [
    "### Learning curves"
   ]
  },
  {
   "cell_type": "code",
   "execution_count": 138,
   "metadata": {},
   "outputs": [
    {
     "data": {
      "image/png": "[encoded data removed]",
      "text/plain": [
       "<Figure size 432x288 with 1 Axes>"
      ]
     },
     "metadata": {
      "needs_background": "light"
     },
     "output_type": "display_data"
    },
    {
     "data": {
      "text/plain": [
       "<Figure size 864x864 with 0 Axes>"
      ]
     },
     "metadata": {},
     "output_type": "display_data"
    }
   ],
   "source": [
    "learning_curve('KNN', knn_clf, step=10)"
   ]
  },
  {
   "cell_type": "markdown",
   "metadata": {},
   "source": [
    "# Summary of all classifiers"
   ]
  },
  {
   "cell_type": "code",
   "execution_count": 144,
   "metadata": {},
   "outputs": [
    {
     "name": "stdout",
     "output_type": "stream",
     "text": [
      "['Decision Tree', 0.7973020944266951, 0.7906316536550745, 0.718712226985042, 0.7014789773775999, 0.7043731985736461, 0.6850189878322871, 0.8292421165903479]\n"
     ]
    },
    {
     "name": "stderr",
     "output_type": "stream",
     "text": [
      "/Users/7001695/gtech/machine-learning/venv/lib/python3.6/site-packages/sklearn/neural_network/multilayer_perceptron.py:564: ConvergenceWarning: Stochastic Optimizer: Maximum iterations (3) reached and the optimization hasn't converged yet.\n",
      "  % self.max_iter, ConvergenceWarning)\n",
      "/Users/7001695/gtech/machine-learning/venv/lib/python3.6/site-packages/sklearn/neural_network/multilayer_perceptron.py:564: ConvergenceWarning: Stochastic Optimizer: Maximum iterations (3) reached and the optimization hasn't converged yet.\n",
      "  % self.max_iter, ConvergenceWarning)\n",
      "/Users/7001695/gtech/machine-learning/venv/lib/python3.6/site-packages/sklearn/neural_network/multilayer_perceptron.py:564: ConvergenceWarning: Stochastic Optimizer: Maximum iterations (3) reached and the optimization hasn't converged yet.\n",
      "  % self.max_iter, ConvergenceWarning)\n",
      "/Users/7001695/gtech/machine-learning/venv/lib/python3.6/site-packages/sklearn/neural_network/multilayer_perceptron.py:564: ConvergenceWarning: Stochastic Optimizer: Maximum iterations (3) reached and the optimization hasn't converged yet.\n",
      "  % self.max_iter, ConvergenceWarning)\n",
      "/Users/7001695/gtech/machine-learning/venv/lib/python3.6/site-packages/sklearn/neural_network/multilayer_perceptron.py:564: ConvergenceWarning: Stochastic Optimizer: Maximum iterations (3) reached and the optimization hasn't converged yet.\n",
      "  % self.max_iter, ConvergenceWarning)\n"
     ]
    },
    {
     "name": "stdout",
     "output_type": "stream",
     "text": [
      "['Multi-Layer Perceptron', 0.7925097621583245, 0.7806955287437899, 0.7048016184006797, 0.6859187493913239, 0.6882927791034138, 0.6705714433335916, 0.8221751519629213]\n",
      "['Boosting', 0.826588569400071, 0.7955997161107168, 0.7530137194857243, 0.7022278317532067, 0.7315695145532221, 0.6832777906946705, 0.8447131230777373]\n",
      "['Support Vector Machine', 0.8077742279020235, 0.7877927608232789, 0.7335911659959533, 0.706964896941672, 0.7183371971159401, 0.6941861065901986, 0.833232383885943]\n",
      "['K-Nearest Neighbor', 0.8006744763933262, 0.7842441447835344, 0.7400381253848131, 0.7174669009588036, 0.7361515917195192, 0.7131158128600584, 0.8288044646498806]\n"
     ]
    },
    {
     "data": {
      "text/html": [
       "<table>\n",
       "<tbody>\n",
       "<tr><td>Classifier            </td><td>Train Accuracy    </td><td>Test Accuracy     </td><td>Train F1 Score    </td><td>Test F1 Score     </td><td>Train ROC AUC     </td><td>Test ROC AUC      </td><td>Cross-Val ROC AUC </td></tr>\n",
       "<tr><td>Decision Tree         </td><td>0.7973020944266951</td><td>0.7906316536550745</td><td>0.718712226985042 </td><td>0.7014789773775999</td><td>0.7043731985736461</td><td>0.6850189878322871</td><td>0.8292421165903479</td></tr>\n",
       "<tr><td>Multi-Layer Perceptron</td><td>0.7925097621583245</td><td>0.7806955287437899</td><td>0.7048016184006797</td><td>0.6859187493913239</td><td>0.6882927791034138</td><td>0.6705714433335916</td><td>0.8221751519629213</td></tr>\n",
       "<tr><td>Boosting              </td><td>0.826588569400071 </td><td>0.7955997161107168</td><td>0.7530137194857243</td><td>0.7022278317532067</td><td>0.7315695145532221</td><td>0.6832777906946705</td><td>0.8447131230777373</td></tr>\n",
       "<tr><td>Support Vector Machine</td><td>0.8077742279020235</td><td>0.7877927608232789</td><td>0.7335911659959533</td><td>0.706964896941672 </td><td>0.7183371971159401</td><td>0.6941861065901986</td><td>0.833232383885943 </td></tr>\n",
       "<tr><td>K-Nearest Neighbor    </td><td>0.8006744763933262</td><td>0.7842441447835344</td><td>0.7400381253848131</td><td>0.7174669009588036</td><td>0.7361515917195192</td><td>0.7131158128600584</td><td>0.8288044646498806</td></tr>\n",
       "</tbody>\n",
       "</table>"
      ],
      "text/plain": [
       "<IPython.core.display.HTML object>"
      ]
     },
     "metadata": {},
     "output_type": "display_data"
    }
   ],
   "source": [
    "from IPython.display import HTML, display\n",
    "import tabulate\n",
    "\n",
    "classifiers = [('Decision Tree', dt_clf), ('Multi-Layer Perceptron', mlp_clf), ('Boosting', boost_clf),\n",
    "               ('Support Vector Machine', svm_clf), ('K-Nearest Neighbor', knn_clf)]\n",
    "table = [['Classifier', 'Train Accuracy', 'Test Accuracy', 'Train F1 Score', 'Test F1 Score',\n",
    "          'Train ROC AUC', 'Test ROC AUC', 'Cross-Val ROC AUC']]\n",
    "for clf_name, clf in classifiers:\n",
    "    y_train_prob = clf.predict_proba(X_train)[:,1]\n",
    "    y_train_hat = np.where(y_train_prob > 0.5, 1, 0)\n",
    "\n",
    "    train_accuracy = accuracy_score(y_train, y_train_hat)\n",
    "    train_f1 = f1_score(y_train, y_train_hat, average='macro')\n",
    "    train_roc = roc_auc_score(y_train, y_train_hat)\n",
    "\n",
    "    y_test_prob = clf.predict_proba(X_test)[:,1]\n",
    "    y_test_hat = np.where(y_test_prob > 0.5, 1, 0)\n",
    "\n",
    "    test_accuracy = accuracy_score(y_test, y_test_hat)\n",
    "    test_f1 = f1_score(y_test, y_test_hat, average='macro')\n",
    "    test_roc = roc_auc_score(y_test, y_test_hat)\n",
    "    \n",
    "    cross_val_auc = np.mean(cross_val_score(clf, X, y, cv=5, scoring='roc_auc'))\n",
    "    \n",
    "    print([clf_name, train_accuracy, test_accuracy, train_f1, test_f1, train_roc, test_roc, cross_val_auc])\n",
    "    table.append([clf_name, train_accuracy, test_accuracy, train_f1, test_f1, train_roc, test_roc, cross_val_auc])\n",
    "\n",
    "# Display as table    \n",
    "display(HTML(tabulate.tabulate(table, tablefmt='html')))"
   ]
  },
  {
   "cell_type": "markdown",
   "metadata": {},
   "source": [
    "# Feature importances"
   ]
  },
  {
   "cell_type": "code",
   "execution_count": 141,
   "metadata": {},
   "outputs": [
    {
     "data": {
      "text/plain": [
       "<matplotlib.axes._subplots.AxesSubplot at 0x11ddd8ba8>"
      ]
     },
     "execution_count": 141,
     "metadata": {},
     "output_type": "execute_result"
    },
    {
     "data": {
      "image/png": "[encoded data removed]",
      "text/plain": [
       "<Figure size 432x288 with 1 Axes>"
      ]
     },
     "metadata": {
      "needs_background": "light"
     },
     "output_type": "display_data"
    }
   ],
   "source": [
    "clf = boost_clf\n",
    "feature_importances = pd.Series(clf.feature_importances_, index=cols)\n",
    "feature_importances = feature_importances.head(15).sort_values()\n",
    "feature_importances.plot('barh', title='Telco Boosting Feature Importances')"
   ]
  },
  {
   "cell_type": "code",
   "execution_count": 150,
   "metadata": {},
   "outputs": [
    {
     "data": {
      "text/html": [
       "<div>\n",
       "<style scoped>\n",
       "    .dataframe tbody tr th:only-of-type {\n",
       "        vertical-align: middle;\n",
       "    }\n",
       "\n",
       "    .dataframe tbody tr th {\n",
       "        vertical-align: top;\n",
       "    }\n",
       "\n",
       "    .dataframe thead th {\n",
       "        text-align: right;\n",
       "    }\n",
       "</style>\n",
       "<table border=\"1\" class=\"dataframe\">\n",
       "  <thead>\n",
       "    <tr style=\"text-align: right;\">\n",
       "      <th></th>\n",
       "      <th>MonthlyCharges</th>\n",
       "      <th>tenure</th>\n",
       "      <th>TotalCharges</th>\n",
       "      <th>Churn</th>\n",
       "    </tr>\n",
       "  </thead>\n",
       "  <tbody>\n",
       "    <tr>\n",
       "      <th>MonthlyCharges</th>\n",
       "      <td>1.000000</td>\n",
       "      <td>0.247900</td>\n",
       "      <td>0.651174</td>\n",
       "      <td>0.193356</td>\n",
       "    </tr>\n",
       "    <tr>\n",
       "      <th>tenure</th>\n",
       "      <td>0.247900</td>\n",
       "      <td>1.000000</td>\n",
       "      <td>0.826178</td>\n",
       "      <td>-0.352229</td>\n",
       "    </tr>\n",
       "    <tr>\n",
       "      <th>TotalCharges</th>\n",
       "      <td>0.651174</td>\n",
       "      <td>0.826178</td>\n",
       "      <td>1.000000</td>\n",
       "      <td>-0.198324</td>\n",
       "    </tr>\n",
       "    <tr>\n",
       "      <th>Churn</th>\n",
       "      <td>0.193356</td>\n",
       "      <td>-0.352229</td>\n",
       "      <td>-0.198324</td>\n",
       "      <td>1.000000</td>\n",
       "    </tr>\n",
       "  </tbody>\n",
       "</table>\n",
       "</div>"
      ],
      "text/plain": [
       "                MonthlyCharges    tenure  TotalCharges     Churn\n",
       "MonthlyCharges        1.000000  0.247900      0.651174  0.193356\n",
       "tenure                0.247900  1.000000      0.826178 -0.352229\n",
       "TotalCharges          0.651174  0.826178      1.000000 -0.198324\n",
       "Churn                 0.193356 -0.352229     -0.198324  1.000000"
      ]
     },
     "execution_count": 150,
     "metadata": {},
     "output_type": "execute_result"
    },
    {
     "data": {
      "image/png": "[encoded data removed]",
      "text/plain": [
       "<Figure size 288x288 with 1 Axes>"
      ]
     },
     "metadata": {
      "needs_background": "light"
     },
     "output_type": "display_data"
    }
   ],
   "source": [
    "# Correlation Analysis\n",
    "X_df = pd.get_dummies(df, columns=categorical_columns)\n",
    "X_df['Churn'] = np.where(X_df['Churn'] == 'Yes', 1, 0)\n",
    "X_df = X_df[['MonthlyCharges', 'tenure', 'TotalCharges', 'Churn']]\n",
    "\n",
    "plt.matshow(X_df.corr())\n",
    "X_df.corr()\n"
   ]
  },
  {
   "cell_type": "code",
   "execution_count": null,
   "metadata": {},
   "outputs": [],
   "source": []
  }
 ],
 "metadata": {
  "kernelspec": {
   "display_name": "Python 3",
   "language": "python",
   "name": "python3"
  },
  "language_info": {
   "codemirror_mode": {
    "name": "ipython",
    "version": 3
   },
   "file_extension": ".py",
   "mimetype": "text/x-python",
   "name": "python",
   "nbconvert_exporter": "python",
   "pygments_lexer": "ipython3",
   "version": "3.6.4"
  }
 },
 "nbformat": 4,
 "nbformat_minor": 2
}
